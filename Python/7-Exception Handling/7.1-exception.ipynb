{
 "cells": [
  {
   "cell_type": "markdown",
   "id": "29809c9c",
   "metadata": {},
   "source": [
    "# Definition:\n",
    "# Exception handling in Python is a mechanism to handle runtime errors, allowing the program to continue execution or fail gracefully.\n",
    "\n",
    "* ZeroDivisionError :Dividing by zero\n",
    "* FileNotFoundError :File not found error\n",
    "* ValueError        :Invalid Value\n",
    "* TypeError         :Invalid Type\n"
   ]
  },
  {
   "cell_type": "code",
   "execution_count": 2,
   "id": "78c89081",
   "metadata": {},
   "outputs": [
    {
     "name": "stdout",
     "output_type": "stream",
     "text": [
      "The variable has not been assigned name 'b' is not defined\n"
     ]
    }
   ],
   "source": [
    "try:\n",
    "    a=b\n",
    "except NameError as ex:\n",
    "    print(\"The variable has not been assigned\",ex)\n",
    "\n",
    "\n"
   ]
  },
  {
   "cell_type": "code",
   "execution_count": 4,
   "id": "5bd7e2e9",
   "metadata": {},
   "outputs": [
    {
     "name": "stdout",
     "output_type": "stream",
     "text": [
      "this error is zero division error\n"
     ]
    }
   ],
   "source": [
    "## Zero Division Error\n",
    "try:\n",
    "   result=1/0\n",
    "except ZeroDivisionError as ex:\n",
    "    print(\"this error is zero division error\")\n",
    "    \n"
   ]
  },
  {
   "cell_type": "code",
   "execution_count": 5,
   "id": "f5cc836a",
   "metadata": {},
   "outputs": [
    {
     "name": "stdout",
     "output_type": "stream",
     "text": [
      "name 'b' is not defined\n"
     ]
    }
   ],
   "source": [
    "try:\n",
    "    result=1/2\n",
    "    a=b\n",
    "except ZeroDivisionError as ex:\n",
    "    print(ex)\n",
    "    print(\"Please enter the dinominator is greater than 0\")\n",
    "except Exception as ex1:\n",
    "    print(ex1)\n",
    "    "
   ]
  },
  {
   "cell_type": "code",
   "execution_count": 10,
   "id": "06b4a6fa",
   "metadata": {},
   "outputs": [
    {
     "name": "stdout",
     "output_type": "stream",
     "text": [
      "This is not a valid number\n"
     ]
    }
   ],
   "source": [
    "try:\n",
    "    num=int(input(\"Enter ur num\"))\n",
    "    result=10/num\n",
    "except ValueError:\n",
    "    print(\"This is not a valid number\")\n",
    "except ZeroDivisionError as zex:\n",
    "    print(\"Enter dinominator is should be greater than zero\",zex)"
   ]
  },
  {
   "cell_type": "code",
   "execution_count": 12,
   "id": "3b75a21c",
   "metadata": {},
   "outputs": [
    {
     "name": "stdout",
     "output_type": "stream",
     "text": [
      "the result is 0.43478260869565216 \n"
     ]
    }
   ],
   "source": [
    "## try execpt and else block\n",
    "try:\n",
    "    num=int(input(\"Enter a number\"))\n",
    "    result=10/num\n",
    "except ValueError:\n",
    "    print(\"this is not a valid input\")\n",
    "except ZeroDivisionError:\n",
    "    print(\"u can't divide by zero\")\n",
    "except Exception as ex:\n",
    "    print(ex)\n",
    "else:\n",
    "    print(f\"the result is {result} \")\n"
   ]
  },
  {
   "cell_type": "code",
   "execution_count": 14,
   "id": "ecf98225",
   "metadata": {},
   "outputs": [
    {
     "name": "stdout",
     "output_type": "stream",
     "text": [
      "the result is 10.0 \n",
      "Execution completed\n"
     ]
    }
   ],
   "source": [
    "## try except and else and finally block \n",
    "try:\n",
    "    num=int(input(\"Enter a number\"))\n",
    "    result=10/num\n",
    "except ValueError:\n",
    "    print(\"this is not a valid input\")\n",
    "except ZeroDivisionError:\n",
    "    print(\"u can't divide by zero\")\n",
    "except Exception as ex:\n",
    "    print(ex)\n",
    "else:\n",
    "    print(f\"the result is {result} \")\n",
    "finally:\n",
    "    print(\"Execution completed\")\n"
   ]
  },
  {
   "cell_type": "code",
   "execution_count": 15,
   "id": "c1214c6a",
   "metadata": {},
   "outputs": [
    {
     "name": "stdout",
     "output_type": "stream",
     "text": [
      "the file does not exists\n"
     ]
    }
   ],
   "source": [
    "## File handling and Exception handling\n",
    "try:\n",
    "    file=open('example.txt','r')\n",
    "    content=file.read()\n",
    "    print(content)\n",
    "except FileNotFoundError:\n",
    "    print(\"the file does not exists\")\n",
    "finally:\n",
    "    if 'file' in locals() and not file.closed():\n",
    "        file.close()\n",
    "        print('file closed')\n"
   ]
  }
 ],
 "metadata": {
  "kernelspec": {
   "display_name": "Python 3",
   "language": "python",
   "name": "python3"
  },
  "language_info": {
   "codemirror_mode": {
    "name": "ipython",
    "version": 3
   },
   "file_extension": ".py",
   "mimetype": "text/x-python",
   "name": "python",
   "nbconvert_exporter": "python",
   "pygments_lexer": "ipython3",
   "version": "3.13.0"
  }
 },
 "nbformat": 4,
 "nbformat_minor": 5
}
