{
 "cells": [
  {
   "cell_type": "code",
   "execution_count": 1,
   "id": "7cbd4396",
   "metadata": {},
   "outputs": [
    {
     "name": "stdout",
     "output_type": "stream",
     "text": [
      "u are eligible to vote\n"
     ]
    }
   ],
   "source": [
    "##  if statement\n",
    "\n",
    "age=20\n",
    "if age>=20:\n",
    "    print(\"u are eligible to vote\")\n",
    "else:\n",
    "    print(\"u are not eligibl to vote\")\n"
   ]
  },
  {
   "cell_type": "code",
   "execution_count": 3,
   "id": "068a49cd",
   "metadata": {},
   "outputs": [
    {
     "name": "stdout",
     "output_type": "stream",
     "text": [
      "u are teenager\n"
     ]
    }
   ],
   "source": [
    "## elif statement\n",
    "## the elif statement allows u to check ultiple conditon. it stand for \"else if\"\n",
    "\n",
    "age=17\n",
    "if age<13:\n",
    "    print(\"u are child\")\n",
    "elif age<18:\n",
    "    print(\"u are teenager\")\n",
    "else:\n",
    "    print(\"u are an adult\")\n",
    "    "
   ]
  },
  {
   "cell_type": "code",
   "execution_count": 5,
   "id": "98f2a198",
   "metadata": {},
   "outputs": [
    {
     "name": "stdout",
     "output_type": "stream",
     "text": [
      "The number is positive number\n",
      "The number is odd number\n"
     ]
    }
   ],
   "source": [
    "## Nested cnditional statements\n",
    "## u can place multiple condition if elif or else statement inside another f,elif or else statement\n",
    "## Number even even or odd or negative Number \n",
    "num=int(input(\"enter the first Number\"))\n",
    "if num >=0:\n",
    "    print(\"The number is positive number\")\n",
    "    if num%2==0:\n",
    "        print(\"The number is even number\")\n",
    "    else:\n",
    "        print(\"The number is odd number\")\n",
    "else:\n",
    "    print(\"The number is zero or negative number\")\n",
    "\n"
   ]
  },
  {
   "cell_type": "code",
   "execution_count": null,
   "id": "0a9e29eb",
   "metadata": {},
   "outputs": [
    {
     "name": "stdout",
     "output_type": "stream",
     "text": [
      "2024\n",
      "The year  is Leap year\n"
     ]
    }
   ],
   "source": [
    "## Prcaticle examples\n",
    "## determine  if year is leap year using nested condition statement\n",
    "\n",
    "year=int(input(\"Enter ur Year\"))\n",
    "print(year)\n",
    "if len(str(year))>=4:\n",
    "    if (year % 4 == 0 and year % 100 != 0   ) or (year % 400 == 0):\n",
    "        print(\"The year  is Leap year\")\n",
    "    else:\n",
    "        print(\"The year is not leap year\")\n",
    "else:\n",
    "    print(\"please enter valid year\")"
   ]
  },
  {
   "cell_type": "code",
   "execution_count": null,
   "id": "7d5346fd",
   "metadata": {},
   "outputs": [],
   "source": [
    "##assignment\n",
    "## simple calculator\n"
   ]
  },
  {
   "cell_type": "code",
   "execution_count": null,
   "id": "c026bed8",
   "metadata": {},
   "outputs": [],
   "source": []
  }
 ],
 "metadata": {
  "kernelspec": {
   "display_name": "Python 3",
   "language": "python",
   "name": "python3"
  },
  "language_info": {
   "codemirror_mode": {
    "name": "ipython",
    "version": 3
   },
   "file_extension": ".py",
   "mimetype": "text/x-python",
   "name": "python",
   "nbconvert_exporter": "python",
   "pygments_lexer": "ipython3",
   "version": "3.13.0"
  }
 },
 "nbformat": 4,
 "nbformat_minor": 5
}
