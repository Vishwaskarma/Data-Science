{
 "cells": [
  {
   "cell_type": "code",
   "execution_count": 1,
   "id": "f9000905",
   "metadata": {},
   "outputs": [],
   "source": [
    "def convert_temprature(temp,unit):\n",
    "    \"\"\"this functions converts temprature between celsius and fahrenheit \"\"\"\n",
    "    if unit=='c':\n",
    "        temp * 9/5 +32  ## celcius to fahrenheit\n",
    "    elif unit=='F':\n",
    "        return (temp-32)*5/9 ## Fahrenheit to celcius\n",
    "    else:\n",
    "        return None\n",
    "    print(convert_temprature(25,'c'))\n",
    "    print(convert_temprature(77,'F'))\n",
    "    "
   ]
  },
  {
   "cell_type": "code",
   "execution_count": 4,
   "id": "68cb59bb",
   "metadata": {},
   "outputs": [
    {
     "name": "stdout",
     "output_type": "stream",
     "text": [
      "Password is not strong Please enter any other password\n",
      "True\n"
     ]
    }
   ],
   "source": [
    "## Password Strength Checker\n",
    "\n",
    "def is_strong_password(password):\n",
    "    \"\"\" this function checks if the password is strong or not \"\"\"\n",
    "    if len(password)<8:\n",
    "        return \"Password is not strong Please enter any other password\"\n",
    "    if not any(char.isdigit() for char in password ):\n",
    "        return \"Please enter Number also\"\n",
    "    if  not any(char.islower() for char in password):\n",
    "        return \"Please enter capital case lolwer case is not acceptable\"\n",
    "    if not any(char in '!@#$^&*()_+' for char in password):\n",
    "        return \"Please use special charater\"\n",
    "    return True\n",
    "\n",
    "## calling a function \n",
    "print(is_strong_password(\"weakend\"))\n",
    "print(is_strong_password(\"himanshu5@\"))\n"
   ]
  },
  {
   "cell_type": "code",
   "execution_count": 8,
   "id": "1ba61127",
   "metadata": {},
   "outputs": [
    {
     "ename": "KeyError",
     "evalue": "'quantity'",
     "output_type": "error",
     "traceback": [
      "\u001b[31m---------------------------------------------------------------------------\u001b[39m",
      "\u001b[31mKeyError\u001b[39m                                  Traceback (most recent call last)",
      "\u001b[36mCell\u001b[39m\u001b[36m \u001b[39m\u001b[32mIn[8]\u001b[39m\u001b[32m, line 11\u001b[39m\n\u001b[32m      7\u001b[39m cart=[{\u001b[33m'\u001b[39m\u001b[33mname\u001b[39m\u001b[33m'\u001b[39m:\u001b[33m\"\u001b[39m\u001b[33mApple\u001b[39m\u001b[33m\"\u001b[39m,\u001b[33m'\u001b[39m\u001b[33mprice\u001b[39m\u001b[33m'\u001b[39m:\u001b[32m0.5\u001b[39m,\u001b[33m'\u001b[39m\u001b[33mquantity\u001b[39m\u001b[33m'\u001b[39m:\u001b[32m5\u001b[39m},\n\u001b[32m      8\u001b[39m       {\u001b[33m'\u001b[39m\u001b[33mname\u001b[39m\u001b[33m'\u001b[39m:\u001b[33m'\u001b[39m\u001b[33mBanana\u001b[39m\u001b[33m'\u001b[39m,\u001b[33m'\u001b[39m\u001b[33mprice\u001b[39m\u001b[33m'\u001b[39m:\u001b[32m0.3\u001b[39m,\u001b[33m'\u001b[39m\u001b[33mqunatity\u001b[39m\u001b[33m'\u001b[39m:\u001b[32m6\u001b[39m},\n\u001b[32m      9\u001b[39m       {\u001b[33m'\u001b[39m\u001b[33mname\u001b[39m\u001b[33m'\u001b[39m:\u001b[33m\"\u001b[39m\u001b[33morange\u001b[39m\u001b[33m\"\u001b[39m,\u001b[33m'\u001b[39m\u001b[33mprice\u001b[39m\u001b[33m'\u001b[39m:\u001b[32m0.7\u001b[39m,\u001b[33m'\u001b[39m\u001b[33mquantity\u001b[39m\u001b[33m'\u001b[39m:\u001b[32m3\u001b[39m}]\n\u001b[32m     10\u001b[39m \u001b[38;5;66;03m## calling the function\u001b[39;00m\n\u001b[32m---> \u001b[39m\u001b[32m11\u001b[39m total=\u001b[43mcalculate_total_cost\u001b[49m\u001b[43m(\u001b[49m\u001b[43mcart\u001b[49m\u001b[43m)\u001b[49m\n\u001b[32m     12\u001b[39m \u001b[38;5;28mprint\u001b[39m(total)\n",
      "\u001b[36mCell\u001b[39m\u001b[36m \u001b[39m\u001b[32mIn[8]\u001b[39m\u001b[32m, line 4\u001b[39m, in \u001b[36mcalculate_total_cost\u001b[39m\u001b[34m(cart)\u001b[39m\n\u001b[32m      2\u001b[39m total_cost=\u001b[32m0\u001b[39m\n\u001b[32m      3\u001b[39m \u001b[38;5;28;01mfor\u001b[39;00m  item \u001b[38;5;129;01min\u001b[39;00m cart:\n\u001b[32m----> \u001b[39m\u001b[32m4\u001b[39m     total_cost+=item[\u001b[33m'\u001b[39m\u001b[33mprice\u001b[39m\u001b[33m'\u001b[39m] * \u001b[43mitem\u001b[49m\u001b[43m[\u001b[49m\u001b[33;43m'\u001b[39;49m\u001b[33;43mquantity\u001b[39;49m\u001b[33;43m'\u001b[39;49m\u001b[43m]\u001b[49m\n\u001b[32m      5\u001b[39m \u001b[38;5;28;01mreturn\u001b[39;00m total_cost\n",
      "\u001b[31mKeyError\u001b[39m: 'quantity'"
     ]
    }
   ],
   "source": [
    "def calculate_total_cost(cart):\n",
    "    total_cost=0\n",
    "    for  item in cart:\n",
    "        total_cost+=item['price'] * item['quantity']\n",
    "    return total_cost            \n",
    "## Example cart data\n",
    "cart=[{'name':\"Apple\",'price':0.5,'quantity':5},\n",
    "      {'name':'Banana','price':0.3,'qunatity':6},\n",
    "      {'name':\"orange\",'price':0.7,'quantity':3}]\n",
    "## calling the function\n",
    "total=calculate_total_cost(cart)\n",
    "print(total)\n"
   ]
  },
  {
   "cell_type": "code",
   "execution_count": null,
   "id": "67160b12",
   "metadata": {},
   "outputs": [],
   "source": []
  }
 ],
 "metadata": {
  "kernelspec": {
   "display_name": "Python 3",
   "language": "python",
   "name": "python3"
  },
  "language_info": {
   "codemirror_mode": {
    "name": "ipython",
    "version": 3
   },
   "file_extension": ".py",
   "mimetype": "text/x-python",
   "name": "python",
   "nbconvert_exporter": "python",
   "pygments_lexer": "ipython3",
   "version": "3.13.0"
  }
 },
 "nbformat": 4,
 "nbformat_minor": 5
}
