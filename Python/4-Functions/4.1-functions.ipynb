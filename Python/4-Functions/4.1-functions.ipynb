{
 "cells": [
  {
   "cell_type": "code",
   "execution_count": null,
   "id": "7bdb7718",
   "metadata": {},
   "outputs": [],
   "source": [
    "## Definition\n",
    "## A function is block of code that perform a specifikc task.function help in organikzing code and improving readablity\n",
    "\n",
    "\n",
    "## synatax\n",
    "def function_name(parameter):\n",
    "    \"\"\"Docstring\"\"\"\n",
    "    # Function body\n",
    "    return Expression"
   ]
  },
  {
   "cell_type": "code",
   "execution_count": 1,
   "id": "5ea447ab",
   "metadata": {},
   "outputs": [
    {
     "name": "stdout",
     "output_type": "stream",
     "text": [
      "The number is Even\n"
     ]
    }
   ],
   "source": [
    "## why function\n",
    "num=24\n",
    "if num%2==0:\n",
    "    print(\"The number is Even\")\n",
    "else:\n",
    "    print(\"the number is odd\")\n",
    "    "
   ]
  },
  {
   "cell_type": "code",
   "execution_count": null,
   "id": "d6e7bab6",
   "metadata": {},
   "outputs": [
    {
     "name": "stdout",
     "output_type": "stream",
     "text": [
      "ther number is even\n"
     ]
    }
   ],
   "source": [
    "## when ever u finds that this programe is runs for muliple times at that time we using function\n",
    "def even_or_odd(num):\n",
    "    if num%2==0:\n",
    "        print(\"the number is even\")\n",
    "    else:\n",
    "        print(\"The number is odd\")\n",
    "\n",
    "\n",
    "## call this function\n",
    "even_or_odd(24)"
   ]
  },
  {
   "cell_type": "code",
   "execution_count": 6,
   "id": "6362a565",
   "metadata": {},
   "outputs": [
    {
     "name": "stdout",
     "output_type": "stream",
     "text": [
      "Hello Himanshu\n"
     ]
    }
   ],
   "source": [
    "## function with multiple parameter\n",
    "def greet(name):\n",
    "   print(f\"Hello {name}\")\n",
    "greet(\"Himanshu\")\n",
    "\n"
   ]
  },
  {
   "cell_type": "code",
   "execution_count": 8,
   "id": "f0c603f6",
   "metadata": {},
   "outputs": [
    {
     "name": "stdout",
     "output_type": "stream",
     "text": [
      "Hello my name is yadav\n"
     ]
    }
   ],
   "source": [
    "## Default parameter\n",
    "def happy(name=\"prince\"):\n",
    "    print(f\"Hello my name is {name}\")\n",
    "\n",
    "happy(\"yadav\")"
   ]
  },
  {
   "cell_type": "code",
   "execution_count": 9,
   "id": "ea164d67",
   "metadata": {},
   "outputs": [
    {
     "name": "stdout",
     "output_type": "stream",
     "text": [
      "1\n",
      "2\n",
      "3\n",
      "4\n",
      "5\n",
      "6\n",
      "7\n",
      "Himanshu\n"
     ]
    }
   ],
   "source": [
    "## varaible Length and Argument \n",
    "## Positional and  Keywolrd argument \n",
    "\n",
    "def  print_number(*Himanshu):\n",
    "    for number in Himanshu:\n",
    "        print(number)\n",
    "print_number(1,2,3,4,5,6,7,\"Himanshu\")"
   ]
  },
  {
   "cell_type": "code",
   "execution_count": null,
   "id": "3a72a72d",
   "metadata": {},
   "outputs": [],
   "source": [
    "## varaible Length and Argument \n",
    "## Positional and  Keywolrd argument \n",
    "\n",
    "def  print_number(*Himanshu):\n",
    "    for number in Himanshu:\n",
    "        print(number)\n",
    "print_number(1,2,3,4,5,6,7,\"Himanshu\")"
   ]
  },
  {
   "cell_type": "code",
   "execution_count": 10,
   "id": "b8d518fa",
   "metadata": {},
   "outputs": [
    {
     "name": "stdout",
     "output_type": "stream",
     "text": [
      "1\n",
      "2\n",
      "3\n",
      "Himanshu\n"
     ]
    }
   ],
   "source": [
    "## Positional Argument \n",
    "def print_numbers(*args):\n",
    "    for num in args:\n",
    "        print(num)\n",
    "print_numbers(1,2,3,\"Himanshu\")"
   ]
  },
  {
   "cell_type": "code",
   "execution_count": 11,
   "id": "1a2b66b4",
   "metadata": {},
   "outputs": [
    {
     "name": "stdout",
     "output_type": "stream",
     "text": [
      "name:Himanshu\n",
      "age:24\n",
      "country:India\n"
     ]
    }
   ],
   "source": [
    "## Keyword arguments\n",
    "def print_details(**kargs):\n",
    "    for key,value in kargs.items():\n",
    "        print(f\"{key}:{value}\")\n",
    "print_details(name=\"Himanshu\",age=24,country=\"India\")"
   ]
  },
  {
   "cell_type": "code",
   "execution_count": 12,
   "id": "a53f6690",
   "metadata": {},
   "outputs": [
    {
     "data": {
      "text/plain": [
       "(6, 2)"
      ]
     },
     "execution_count": 12,
     "metadata": {},
     "output_type": "execute_result"
    }
   ],
   "source": [
    "### Return statement\n",
    "\n",
    "def Multiply(a,b):\n",
    "    return a*b,a\n",
    "Multiply(2,3)\n"
   ]
  },
  {
   "cell_type": "code",
   "execution_count": null,
   "id": "decb7096",
   "metadata": {},
   "outputs": [],
   "source": []
  }
 ],
 "metadata": {
  "kernelspec": {
   "display_name": "Python 3",
   "language": "python",
   "name": "python3"
  },
  "language_info": {
   "codemirror_mode": {
    "name": "ipython",
    "version": 3
   },
   "file_extension": ".py",
   "mimetype": "text/x-python",
   "name": "python",
   "nbconvert_exporter": "python",
   "pygments_lexer": "ipython3",
   "version": "3.13.0"
  }
 },
 "nbformat": 4,
 "nbformat_minor": 5
}
