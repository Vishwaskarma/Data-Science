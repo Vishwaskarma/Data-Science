{
 "cells": [
  {
   "cell_type": "code",
   "execution_count": null,
   "id": "7bdb7718",
   "metadata": {},
   "outputs": [],
   "source": [
    "## Definition\n",
    "## A function is block of code that perform a specifikc task.function help in organikzing code and improving readablity\n",
    "\n",
    "\n",
    "## synatax\n",
    "def function_name(parameter):\n",
    "    \"\"\"Docstring\"\"\"\n",
    "    # Function body\n",
    "    return Expression"
   ]
  }
 ],
 "metadata": {
  "language_info": {
   "name": "python"
  }
 },
 "nbformat": 4,
 "nbformat_minor": 5
}
