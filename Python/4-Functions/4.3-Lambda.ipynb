{
 "cells": [
  {
   "cell_type": "markdown",
   "id": "52b2ff48",
   "metadata": {},
   "source": [
    "A lambda function is a small, anonymous function defined without a name. In Python, it's created using the lambda keyword. Lambda functions are useful for short, simple operations—especially when you need a function for a short time, such as in sorting, filtering, or mapping."
   ]
  },
  {
   "cell_type": "code",
   "execution_count": 1,
   "id": "cbc319d5",
   "metadata": {},
   "outputs": [
    {
     "name": "stdout",
     "output_type": "stream",
     "text": [
      "5\n"
     ]
    }
   ],
   "source": [
    "addition=lambda a,b:a+b\n",
    "print(addition(2,3))"
   ]
  },
  {
   "cell_type": "code",
   "execution_count": 2,
   "id": "9f0c01b8",
   "metadata": {},
   "outputs": [
    {
     "name": "stdout",
     "output_type": "stream",
     "text": [
      "True\n"
     ]
    }
   ],
   "source": [
    "even=lambda x:x%2==0\n",
    "print(even(4))"
   ]
  },
  {
   "cell_type": "code",
   "execution_count": 5,
   "id": "c519eb79",
   "metadata": {},
   "outputs": [
    {
     "name": "stdout",
     "output_type": "stream",
     "text": [
      "2\n"
     ]
    }
   ],
   "source": [
    "subtraction=lambda a,b:a-b\n",
    "print(subtraction(5,3))"
   ]
  },
  {
   "cell_type": "code",
   "execution_count": 8,
   "id": "a47bd46b",
   "metadata": {},
   "outputs": [
    {
     "name": "stdout",
     "output_type": "stream",
     "text": [
      "[1, 4, 9, 16, 25]\n"
     ]
    }
   ],
   "source": [
    "## map\n",
    "numbers=[1,2,3,4,5]\n",
    "numbners_Square=list(map((lambda x:x**2),numbers))\n",
    "print(numbners_Square)"
   ]
  },
  {
   "cell_type": "code",
   "execution_count": null,
   "id": "5686c67b",
   "metadata": {},
   "outputs": [],
   "source": []
  }
 ],
 "metadata": {
  "kernelspec": {
   "display_name": "Python 3",
   "language": "python",
   "name": "python3"
  },
  "language_info": {
   "codemirror_mode": {
    "name": "ipython",
    "version": 3
   },
   "file_extension": ".py",
   "mimetype": "text/x-python",
   "name": "python",
   "nbconvert_exporter": "python",
   "pygments_lexer": "ipython3",
   "version": "3.13.0"
  }
 },
 "nbformat": 4,
 "nbformat_minor": 5
}
