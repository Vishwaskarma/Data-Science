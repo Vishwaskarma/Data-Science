{
 "cells": [
  {
   "cell_type": "code",
   "execution_count": 1,
   "id": "0600b307",
   "metadata": {},
   "outputs": [
    {
     "data": {
      "text/plain": [
       "100"
      ]
     },
     "execution_count": 1,
     "metadata": {},
     "output_type": "execute_result"
    }
   ],
   "source": [
    "def square(x):\n",
    "    return x*x\n",
    "square(10)"
   ]
  },
  {
   "cell_type": "code",
   "execution_count": 2,
   "id": "043538db",
   "metadata": {},
   "outputs": [
    {
     "name": "stdout",
     "output_type": "stream",
     "text": [
      "[1, 4, 9, 16, 25]\n"
     ]
    }
   ],
   "source": [
    "numbers=[1,2,3,4,5]\n",
    "final_square=list(map(lambda x:x**2,numbers))\n",
    "print(final_square)"
   ]
  },
  {
   "cell_type": "code",
   "execution_count": 3,
   "id": "3adf51f2",
   "metadata": {},
   "outputs": [
    {
     "name": "stdout",
     "output_type": "stream",
     "text": [
      "[5, 7, 9]\n"
     ]
    }
   ],
   "source": [
    "## Map multiple itrables\n",
    "number1=[1,2,3]\n",
    "number2=[4,5,6]\n",
    "result=list(map(lambda x,y:x+y,number1,number2))\n",
    "print(result)"
   ]
  },
  {
   "cell_type": "code",
   "execution_count": null,
   "id": "673c92c7",
   "metadata": {},
   "outputs": [
    {
     "name": "stdout",
     "output_type": "stream",
     "text": [
      "[1, 2, 3, 4, 5, 6, 7, 8, 9]\n"
     ]
    }
   ],
   "source": [
    "string_number=['1','2','3','4','5','6','7','8','9']\n",
    "creating_to_int=list(map(int,string_number))\n",
    "print(creating_to_int)\n",
    "\n"
   ]
  },
  {
   "cell_type": "code",
   "execution_count": null,
   "id": "bf3d8ce8",
   "metadata": {},
   "outputs": [
    {
     "name": "stdout",
     "output_type": "stream",
     "text": [
      "['SUBTRACTION', 'NUMBNERS_SQUARE', 'HIMANSHU', 'FINAL_SQUARE', 'RESULT', 'CREATING_TO_INT']\n"
     ]
    }
   ],
   "source": [
    "Names=[\"subtraction\",\"numbners_Square\",\"Himanshu\",\"final_square\",\"result\",\"creating_to_int\"]\n",
    "final_making_upper_to_all=list(map(str.upper,Names))\n",
    "print(final_making_upper_to_all)"
   ]
  },
  {
   "cell_type": "code",
   "execution_count": 6,
   "id": "9f480ffb",
   "metadata": {},
   "outputs": [
    {
     "name": "stdout",
     "output_type": "stream",
     "text": [
      "['subtraction', 'numbners_square', 'himanshu', 'final_square', 'result', 'creating_to_int']\n"
     ]
    }
   ],
   "source": [
    "Names2=[\"subtraction\",\"numbners_Square\",\"Himanshu\",\"final_square\",\"result\",\"creating_to_int\"]\n",
    "final_making_lower_to_all=list(map(str.lower,Names2))\n",
    "print(final_making_lower_to_all)"
   ]
  },
  {
   "cell_type": "code",
   "execution_count": 7,
   "id": "b3c12ed8",
   "metadata": {},
   "outputs": [
    {
     "name": "stdout",
     "output_type": "stream",
     "text": [
      "['Himanshu', 'Ankit', 'Rohit']\n"
     ]
    }
   ],
   "source": [
    "def get_name(person):\n",
    "    return person['name']\n",
    "\n",
    "people=[{'name':'Himanshu','age':24},{'name':'Ankit','age':25},{'name':'Rohit','age':26}]\n",
    "names=list(map(get_name,people))\n",
    "print(names)"
   ]
  },
  {
   "cell_type": "code",
   "execution_count": null,
   "id": "e320bec3",
   "metadata": {},
   "outputs": [],
   "source": []
  }
 ],
 "metadata": {
  "kernelspec": {
   "display_name": "Python 3",
   "language": "python",
   "name": "python3"
  },
  "language_info": {
   "codemirror_mode": {
    "name": "ipython",
    "version": 3
   },
   "file_extension": ".py",
   "mimetype": "text/x-python",
   "name": "python",
   "nbconvert_exporter": "python",
   "pygments_lexer": "ipython3",
   "version": "3.13.0"
  }
 },
 "nbformat": 4,
 "nbformat_minor": 5
}
