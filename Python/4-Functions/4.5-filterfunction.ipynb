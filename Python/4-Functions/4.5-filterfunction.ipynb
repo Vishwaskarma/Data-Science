{
 "cells": [
  {
   "cell_type": "markdown",
   "id": "62bd1cd5",
   "metadata": {},
   "source": [
    "# The filter() function constructs an iterator from elements of 'iterable' for which 'function' returns True.\n",
    "# Syntax: filter(function, iterable)"
   ]
  },
  {
   "cell_type": "code",
   "execution_count": 1,
   "id": "cdda0631",
   "metadata": {},
   "outputs": [
    {
     "name": "stdout",
     "output_type": "stream",
     "text": [
      "[1, 3, 5, 7, 9]\n",
      "[2, 4, 6, 8]\n"
     ]
    }
   ],
   "source": [
    "## filtering from list\n",
    "\n",
    "list_one=[1,2,3,4,5,6,7,8,9]\n",
    "filtered_data=list(filter(lambda  x:x%2==0,list_one))\n",
    "return_those_notsatisfied=list(filter(lambda x:x%2 !=0,list_one))\n",
    "print(return_those_notsatisfied)\n",
    "print(filtered_data)"
   ]
  },
  {
   "cell_type": "code",
   "execution_count": 2,
   "id": "2dec3a1c",
   "metadata": {},
   "outputs": [
    {
     "name": "stdout",
     "output_type": "stream",
     "text": [
      "[2, 4, 56, 6, 8, 10]\n"
     ]
    }
   ],
   "source": [
    "## filtering using callback function \n",
    "li=[1,2,3,4,5,56,6,7,8,9,10]\n",
    "# def even(a):\n",
    "#     if a%2==0:return True\n",
    "\n",
    "returning_through_filter=list(filter(lambda x:x%2==0 ,li))\n",
    "print(returning_through_filter)"
   ]
  },
  {
   "cell_type": "code",
   "execution_count": 3,
   "id": "15e9356e",
   "metadata": {},
   "outputs": [
    {
     "name": "stdout",
     "output_type": "stream",
     "text": [
      "[6, 7, 8, 9, 10]\n"
     ]
    }
   ],
   "source": [
    "## filtering with a Lambda Expression\n",
    "numbers=[1,2,3,4,5,6,7,8,9,10]\n",
    "greater_than_five=list(filter(lambda x:x>5,numbers))\n",
    "print(greater_than_five)\n"
   ]
  },
  {
   "cell_type": "code",
   "execution_count": 4,
   "id": "a858ef32",
   "metadata": {},
   "outputs": [
    {
     "name": "stdout",
     "output_type": "stream",
     "text": [
      "[6, 8, 10]\n"
     ]
    }
   ],
   "source": [
    "#Filter with lambda function and multiple conditions\n",
    "numbers=[1,2,3,4,5,6,7,8,9,10]\n",
    "eveb_and_greater_than_five=list(filter(lambda x:x%2==0 and x>5,numbers))\n",
    "print(eveb_and_greater_than_five)\n",
    "\n"
   ]
  },
  {
   "cell_type": "code",
   "execution_count": 5,
   "id": "ce8e24dc",
   "metadata": {},
   "outputs": [
    {
     "name": "stdout",
     "output_type": "stream",
     "text": [
      "[{'firstname': 'Ankit', 'age': 26}]\n"
     ]
    }
   ],
   "source": [
    "# Filter function to check if the age is greater than 25 in dictionaries\n",
    "students=[{'firstname':'Himanshu',\"age\":24},{\"firstname\":\"Prince\",\"age\":23},{\"firstname\":\"Ankit\",\"age\":26}]\n",
    "def check_age(student):\n",
    "    return student['age']>25\n",
    "age_is_greater_than_25=list(filter(check_age,students))\n",
    "print(age_is_greater_than_25)"
   ]
  },
  {
   "cell_type": "markdown",
   "id": "731fc30a",
   "metadata": {},
   "source": [
    "Conclusion\n",
    "\n",
    "# The filter() function is a powerful tool in Python for extracting elements from iterables that meet specific conditions.\n",
    "# It makes code concise and readable, especially when used with lambda expressions or custom functions."
   ]
  }
 ],
 "metadata": {
  "kernelspec": {
   "display_name": "Python 3",
   "language": "python",
   "name": "python3"
  },
  "language_info": {
   "codemirror_mode": {
    "name": "ipython",
    "version": 3
   },
   "file_extension": ".py",
   "mimetype": "text/x-python",
   "name": "python",
   "nbconvert_exporter": "python",
   "pygments_lexer": "ipython3",
   "version": "3.13.0"
  }
 },
 "nbformat": 4,
 "nbformat_minor": 5
}
