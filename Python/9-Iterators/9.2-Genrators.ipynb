{
 "cells": [
  {
   "cell_type": "markdown",
   "id": "6dbf7ce5",
   "metadata": {},
   "source": [
    "\n",
    "A generator in Python is a special type of iterator that allows you to iterate over a sequence of values, but instead of storing all the values in memory, it generates them on the fly using the yield statement. This makes generators memory-efficient and suitable for working with large datasets or streams of data."
   ]
  },
  {
   "cell_type": "code",
   "execution_count": null,
   "id": "43e4133b",
   "metadata": {},
   "outputs": [],
   "source": []
  }
 ],
 "metadata": {
  "kernelspec": {
   "display_name": "Python 3",
   "language": "python",
   "name": "python3"
  },
  "language_info": {
   "codemirror_mode": {
    "name": "ipython",
    "version": 3
   },
   "file_extension": ".py",
   "mimetype": "text/x-python",
   "name": "python",
   "nbconvert_exporter": "python",
   "pygments_lexer": "ipython3",
   "version": "3.13.0"
  }
 },
 "nbformat": 4,
 "nbformat_minor": 5
}
