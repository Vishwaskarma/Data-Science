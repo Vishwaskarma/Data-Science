{
 "cells": [
  {
   "cell_type": "markdown",
   "id": "379bae3a",
   "metadata": {},
   "source": [
    "# In Python, a class is a blueprint for creating objects. Objects are instances of classes and can have attributes (data) and methods (functions)."
   ]
  },
  {
   "cell_type": "code",
   "execution_count": 7,
   "id": "9ba19e0e",
   "metadata": {},
   "outputs": [
    {
     "name": "stdout",
     "output_type": "stream",
     "text": [
      "<class '__main__.Car'>\n"
     ]
    }
   ],
   "source": [
    "## A class is a Blueprint for a creating objects. Attributes,methods\n",
    "\n",
    "class Car:\n",
    "    pass\n",
    "audi=Car()\n",
    "bmw=Car()\n",
    "print(type(audi))\n"
   ]
  },
  {
   "cell_type": "code",
   "execution_count": 9,
   "id": "323234ed",
   "metadata": {},
   "outputs": [
    {
     "name": "stdout",
     "output_type": "stream",
     "text": [
      "<__main__.Car object at 0x000001F23F419940>\n",
      "<__main__.Car object at 0x000001F23F9B8410>\n",
      "200000\n"
     ]
    }
   ],
   "source": [
    "print(audi)\n",
    "print(bmw)\n",
    "audi.price=200000\n",
    "print(audi.price)"
   ]
  },
  {
   "cell_type": "code",
   "execution_count": 12,
   "id": "7d875fe9",
   "metadata": {},
   "outputs": [
    {
     "name": "stdout",
     "output_type": "stream",
     "text": [
      "big b\n",
      "3\n",
      "55\n",
      "55\n"
     ]
    }
   ],
   "source": [
    "class Dog:\n",
    "    ## constructor\n",
    "    def __init__(self,name,age):\n",
    "       self.name=name\n",
    "       self.age=age\n",
    "\n",
    " ## create objects\n",
    "dog1=Dog(\"big b\",3)\n",
    "print(dog1.name)\n",
    "print(dog1.age)\n",
    "\n",
    "## create another object\n",
    "dog2=Dog(\"sal\",55)\n",
    "print(dog2.age)\n",
    "print(dog2.age)\n",
    "\n",
    "\n"
   ]
  },
  {
   "cell_type": "code",
   "execution_count": null,
   "id": "7ece5799",
   "metadata": {},
   "outputs": [],
   "source": []
  },
  {
   "cell_type": "code",
   "execution_count": 13,
   "id": "953f854a",
   "metadata": {},
   "outputs": [
    {
     "name": "stdout",
     "output_type": "stream",
     "text": [
      "pony\n",
      "4\n",
      "female\n"
     ]
    }
   ],
   "source": [
    "## define a class with instance methods\n",
    "\n",
    "class Cat:\n",
    "    def __init__(self,name,age,gender):\n",
    "        self.name=name\n",
    "        self.age=age\n",
    "        self.gender=gender\n",
    "    \n",
    "    def meow(self):\n",
    "        print(f\"{self.name} says meow\")\n",
    "    \n",
    "caty=Cat(\"pony\",4,'female')\n",
    "print(caty.name)\n",
    "print(caty.age)\n",
    "print(caty.gender)\n"
   ]
  },
  {
   "cell_type": "code",
   "execution_count": 29,
   "id": "96ef872e",
   "metadata": {},
   "outputs": [
    {
     "name": "stdout",
     "output_type": "stream",
     "text": [
      "1000\n",
      "the amount is added to ur account and ur new current amount is 1200\n",
      "None\n",
      "the Debited amount is 100 and ur current amount is 1100\n",
      "None\n"
     ]
    }
   ],
   "source": [
    "## Moldelling a Bank Account\n",
    "\n",
    "## define a c lass for bank account\n",
    "\n",
    "class BankAccount:\n",
    "    def __init__(self,owner,balance=0):\n",
    "        self.owner=owner\n",
    "        self.balance=balance\n",
    "\n",
    "    def deposite(self,amount):\n",
    "        self.balance+=amount\n",
    "        print(f\"the amount is added to ur account and ur new current amount is {self.balance}\")\n",
    "\n",
    "    \n",
    "    def withdraw(self,amount):\n",
    "        if amount > self.balance:\n",
    "            print(f\"Please Enter Valid {amount} to withdraw ur current balance is {self.balance}\")\n",
    "        else:\n",
    "            self.balance-=amount\n",
    "            print(f\"the Debited amount is {amount} and ur current amount is\",self.balance)\n",
    "\n",
    "    def getBalance(self):\n",
    "        return self.balance\n",
    "        \n",
    "account=BankAccount(\"Himanshu\",1000)\n",
    "print(account.getBalance())\n",
    "print(account.deposite(200))\n",
    "print(account.withdraw(100))"
   ]
  },
  {
   "cell_type": "code",
   "execution_count": null,
   "id": "b840cb02",
   "metadata": {},
   "outputs": [],
   "source": []
  }
 ],
 "metadata": {
  "kernelspec": {
   "display_name": "Python 3",
   "language": "python",
   "name": "python3"
  },
  "language_info": {
   "codemirror_mode": {
    "name": "ipython",
    "version": 3
   },
   "file_extension": ".py",
   "mimetype": "text/x-python",
   "name": "python",
   "nbconvert_exporter": "python",
   "pygments_lexer": "ipython3",
   "version": "3.13.0"
  }
 },
 "nbformat": 4,
 "nbformat_minor": 5
}
