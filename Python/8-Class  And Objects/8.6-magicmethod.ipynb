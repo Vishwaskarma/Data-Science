{
 "cells": [
  {
   "cell_type": "markdown",
   "id": "c4fe250e",
   "metadata": {},
   "source": [
    "# Magic methods in Python, also known as dunder (double underscore) methods, are special methods with names that start and end with double underscores.\n",
    "# They enable the customization of class behavior for built-in operations (e.g., arithmetic, comparison, string representation)."
   ]
  },
  {
   "cell_type": "code",
   "execution_count": null,
   "id": "bcb3fd53",
   "metadata": {},
   "outputs": [],
   "source": [
    "## Basices Method\n",
    "class Person:\n",
    "    def __init__(self,name,age):\n",
    "        self.name=name\n",
    "        self.age=age\n",
    "per=Person(\"Himanshu\",24)\n",
    "print(per)\n",
    "\n"
   ]
  },
  {
   "cell_type": "code",
   "execution_count": 4,
   "id": "fb3e0cbe",
   "metadata": {},
   "outputs": [
    {
     "name": "stdout",
     "output_type": "stream",
     "text": [
      "Himanshu,24years old\n",
      "Person( my name is Himanshu and my age is 24 years old)\n"
     ]
    }
   ],
   "source": [
    "## Basices Method\n",
    "class Person:\n",
    "    def __init__(self,name,age):\n",
    "        self.name=name\n",
    "        self.age=age\n",
    "    def __str__(self):\n",
    "        return f\"{self.name},{self.age}years old\"\n",
    "    def __repr__(self):\n",
    "        return f\"Person( my name is {self.name} and my age is {self.age} years old)\"\n",
    "per=Person(\"Himanshu\",24)\n",
    "print(per)\n",
    "print(repr(per))\n",
    "\n"
   ]
  },
  {
   "cell_type": "code",
   "execution_count": null,
   "id": "db9a6896",
   "metadata": {},
   "outputs": [],
   "source": []
  }
 ],
 "metadata": {
  "kernelspec": {
   "display_name": "Python 3",
   "language": "python",
   "name": "python3"
  },
  "language_info": {
   "codemirror_mode": {
    "name": "ipython",
    "version": 3
   },
   "file_extension": ".py",
   "mimetype": "text/x-python",
   "name": "python",
   "nbconvert_exporter": "python",
   "pygments_lexer": "ipython3",
   "version": "3.13.0"
  }
 },
 "nbformat": 4,
 "nbformat_minor": 5
}
