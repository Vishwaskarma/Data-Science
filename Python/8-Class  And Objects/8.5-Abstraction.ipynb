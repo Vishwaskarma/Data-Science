{
 "cells": [
  {
   "cell_type": "markdown",
   "id": "6a7341ca",
   "metadata": {},
   "source": [
    "# Abstraction is phenomena in which we hiding complex data and implementation detail showing neccessary data which are required to user only "
   ]
  },
  {
   "cell_type": "code",
   "execution_count": 2,
   "id": "0196f738",
   "metadata": {},
   "outputs": [],
   "source": [
    "## Abstract base class\n",
    "from abc import ABC,abstractmethod\n",
    "class Vehicle(ABC):\n",
    "    def drive(self):\n",
    "        print(\"The vehicle is used for driving\")\n",
    "    @abstractmethod\n",
    "    def start_engine(self):\n",
    "        pass\n",
    "class Car(Vehicle):\n",
    "    def start_engine(self):\n",
    "        print(\"car engine started\")\n",
    "def operate_vehicle(vehicle):\n",
    "    vehicle.start_engine()\n",
    "    vehicle.drive()"
   ]
  },
  {
   "cell_type": "code",
   "execution_count": null,
   "id": "8789f40a",
   "metadata": {},
   "outputs": [],
   "source": []
  }
 ],
 "metadata": {
  "kernelspec": {
   "display_name": "Python 3",
   "language": "python",
   "name": "python3"
  },
  "language_info": {
   "codemirror_mode": {
    "name": "ipython",
    "version": 3
   },
   "file_extension": ".py",
   "mimetype": "text/x-python",
   "name": "python",
   "nbconvert_exporter": "python",
   "pygments_lexer": "ipython3",
   "version": "3.13.0"
  }
 },
 "nbformat": 4,
 "nbformat_minor": 5
}
