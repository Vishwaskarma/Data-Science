{
 "cells": [
  {
   "cell_type": "markdown",
   "id": "e3d2b431",
   "metadata": {},
   "source": [
    "# Polymorphism in Python refers to the ability of different objects to respond to the same method or function call in different ways.\n",
    "# It allows for methods to be used interchangeably across different classes, enhancing code flexibility and reusability."
   ]
  },
  {
   "cell_type": "code",
   "execution_count": 2,
   "id": "9197d620",
   "metadata": {},
   "outputs": [
    {
     "name": "stdout",
     "output_type": "stream",
     "text": [
      "woof\n",
      "Meow\n",
      "woof\n"
     ]
    }
   ],
   "source": [
    "## Base class\n",
    "class Animal:\n",
    "    def speak(self):\n",
    "        return \"Sound of the animal\"\n",
    "class Dog(Animal):\n",
    "    def speak(self):\n",
    "        return \"woof\"\n",
    "class Cat(Animal):\n",
    "    def speak(self):\n",
    "        return \"Meow\"\n",
    "## function that demonstrates polymorphism\n",
    "def animal_speak(animal):\n",
    "    print(animal.speak())\n",
    "dog=Dog()\n",
    "cat=Cat()\n",
    "print(dog.speak())\n",
    "print(cat.speak())\n",
    "animal_speak(dog)\n"
   ]
  },
  {
   "cell_type": "code",
   "execution_count": null,
   "id": "15ce7d6b",
   "metadata": {},
   "outputs": [],
   "source": [
    "## polymorphism with function and Methods\n",
    "## base class\n",
    "class shape:\n",
    "     def  area(self):\n",
    "        return \"The area of figure\"\n",
    "## Derived class\n",
    "class Rectangle(shape):\n",
    "    def __init__(self,width,height):\n",
    "        self.width=width\n",
    "        self.height=height\n",
    "    def area(self):\n",
    "        return self.width *self.height\n",
    "## Derive class 2\n",
    "class Circle(shape):\n",
    "    def __init__(self)\n",
    "    \n"
   ]
  }
 ],
 "metadata": {
  "kernelspec": {
   "display_name": "Python 3",
   "language": "python",
   "name": "python3"
  },
  "language_info": {
   "codemirror_mode": {
    "name": "ipython",
    "version": 3
   },
   "file_extension": ".py",
   "mimetype": "text/x-python",
   "name": "python",
   "nbconvert_exporter": "python",
   "pygments_lexer": "ipython3",
   "version": "3.13.0"
  }
 },
 "nbformat": 4,
 "nbformat_minor": 5
}
