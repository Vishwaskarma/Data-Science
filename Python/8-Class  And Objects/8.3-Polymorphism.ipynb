{
 "cells": [
  {
   "cell_type": "markdown",
   "id": "e3d2b431",
   "metadata": {},
   "source": [
    "# Polymorphism in Python refers to the ability of different objects to respond to the same method or function call in different ways.\n",
    "# It allows for methods to be used interchangeably across different classes, enhancing code flexibility and reusability."
   ]
  },
  {
   "cell_type": "code",
   "execution_count": 2,
   "id": "9197d620",
   "metadata": {},
   "outputs": [
    {
     "name": "stdout",
     "output_type": "stream",
     "text": [
      "woof\n",
      "Meow\n",
      "woof\n"
     ]
    }
   ],
   "source": [
    "## Base class\n",
    "class Animal:\n",
    "    def speak(self):\n",
    "        return \"Sound of the animal\"\n",
    "class Dog(Animal):\n",
    "    def speak(self):\n",
    "        return \"woof\"\n",
    "class Cat(Animal):\n",
    "    def speak(self):\n",
    "        return \"Meow\"\n",
    "## function that demonstrates polymorphism\n",
    "def animal_speak(animal):\n",
    "    print(animal.speak())\n",
    "dog=Dog()\n",
    "cat=Cat()\n",
    "print(dog.speak())\n",
    "print(cat.speak())\n",
    "animal_speak(dog)\n"
   ]
  },
  {
   "cell_type": "code",
   "execution_count": 1,
   "id": "15ce7d6b",
   "metadata": {},
   "outputs": [
    {
     "name": "stdout",
     "output_type": "stream",
     "text": [
      "<__main__.Rectangle object at 0x000001B40A1C8D70>\n",
      "<__main__.Circle object at 0x000001B40A1C8AD0>\n"
     ]
    }
   ],
   "source": [
    "## polymorphism with function and Methods\n",
    "## base class\n",
    "class shape:\n",
    "     def  area(self):\n",
    "        return \"The area of figure\"\n",
    "## Derived class\n",
    "class Rectangle(shape):\n",
    "    def __init__(self,width,height):\n",
    "        self.width=width\n",
    "        self.height=height\n",
    "    def area(self):\n",
    "        return self.width *self.height\n",
    "## Derive class 2\n",
    "class Circle(shape):\n",
    "    def __init__(self,radius):\n",
    "        self.radius=radius\n",
    "\n",
    "def area(self):\n",
    "        return 3.14 * self.radius * self.radius\n",
    "## function that demonstrates polymorphism\n",
    "def print_area(shape):\n",
    "     print(f\"the area is {shape.area()}\")\n",
    "\n",
    "\n",
    "rectangle=Rectangle(4,5)\n",
    "circle=Circle(3)\n",
    "print(rectangle)\n",
    "print(circle)"
   ]
  },
  {
   "cell_type": "markdown",
   "id": "24b3ba5b",
   "metadata": {},
   "source": [
    "# Polymorphism with Abstract Base class\n"
   ]
  },
  {
   "cell_type": "code",
   "execution_count": 5,
   "id": "4e4f151b",
   "metadata": {},
   "outputs": [
    {
     "name": "stdout",
     "output_type": "stream",
     "text": [
      "Car engine started\n"
     ]
    }
   ],
   "source": [
    "# Abstraction in Python refers to the concept of hiding the complex implementation details\n",
    "# and showing only the essential features of an object.\n",
    "# It helps in reducing programming complexity and effort.\n",
    "# In Python, abstraction can be achieved using abstract classes and methods from the 'abc' module.\n",
    "\n",
    "from abc import ABC ,abstractmethod\n",
    "\n",
    "class Vehicle(ABC):\n",
    "    @abstractmethod\n",
    "    def start_engine(self):\n",
    "        pass\n",
    "## Derfived class\n",
    "class Car(Vehicle):\n",
    "    def start_engine(self):\n",
    "        return \"Car engine started\"\n",
    "## Derived Motorcycle(Vehicle):\n",
    "class Motorcycle(Vehicle):\n",
    "    def start_engine(self):\n",
    "        return \"Motorcycle engine started\"\n",
    "# Function that demonstrate polymorphism\n",
    "def start_vehicle(vehicle):\n",
    "    print(vehicle.start_engine())\n",
    "\n",
    "## create objects of car and motorcycle\n",
    "\n",
    "car=Car()\n",
    "motor=Motorcycle()\n",
    "\n",
    "start_vehicle(car)\n",
    "\n",
    "    \n"
   ]
  },
  {
   "cell_type": "code",
   "execution_count": null,
   "id": "9198db8b",
   "metadata": {},
   "outputs": [],
   "source": []
  }
 ],
 "metadata": {
  "kernelspec": {
   "display_name": "Python 3",
   "language": "python",
   "name": "python3"
  },
  "language_info": {
   "codemirror_mode": {
    "name": "ipython",
    "version": 3
   },
   "file_extension": ".py",
   "mimetype": "text/x-python",
   "name": "python",
   "nbconvert_exporter": "python",
   "pygments_lexer": "ipython3",
   "version": "3.13.0"
  }
 },
 "nbformat": 4,
 "nbformat_minor": 5
}
