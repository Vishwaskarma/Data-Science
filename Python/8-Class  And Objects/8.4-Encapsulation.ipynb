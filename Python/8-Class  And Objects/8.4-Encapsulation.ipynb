{
 "cells": [
  {
   "cell_type": "code",
   "execution_count": null,
   "id": "47768231",
   "metadata": {},
   "outputs": [],
   "source": [
    "# Encapsulation in Python refers to the bundling of data (attributes) and methods (functions) that operate on the data into a single unit, typically a class.\n",
    "# It also restricts direct access to some of the object's components, which is usually done by making some attributes or methods private using a leading underscore (_)."
   ]
  },
  {
   "cell_type": "code",
   "execution_count": 4,
   "id": "fee5b926",
   "metadata": {},
   "outputs": [
    {
     "name": "stdout",
     "output_type": "stream",
     "text": [
      "Himanshu\n"
     ]
    },
    {
     "data": {
      "text/plain": [
       "'Himanshu'"
      ]
     },
     "execution_count": 4,
     "metadata": {},
     "output_type": "execute_result"
    }
   ],
   "source": [
    "### Encapsulation with getter and setter Methods\n",
    "### public ,protected,private variables\n",
    "\n",
    "class Person:\n",
    "    def __init__(self,name,age):\n",
    "        self.name=name\n",
    "        self.age=age\n",
    "def get_name(person):\n",
    "    return person.name\n",
    "per=Person(\"Himanshu\",24)\n",
    "print(per.name)\n",
    "get_name(per)\n",
    "        "
   ]
  },
  {
   "cell_type": "code",
   "execution_count": 2,
   "id": "b0074036",
   "metadata": {},
   "outputs": [
    {
     "data": {
      "text/plain": [
       "['__class__',\n",
       " '__delattr__',\n",
       " '__dict__',\n",
       " '__dir__',\n",
       " '__doc__',\n",
       " '__eq__',\n",
       " '__firstlineno__',\n",
       " '__format__',\n",
       " '__ge__',\n",
       " '__getattribute__',\n",
       " '__getstate__',\n",
       " '__gt__',\n",
       " '__hash__',\n",
       " '__init__',\n",
       " '__init_subclass__',\n",
       " '__le__',\n",
       " '__lt__',\n",
       " '__module__',\n",
       " '__ne__',\n",
       " '__new__',\n",
       " '__reduce__',\n",
       " '__reduce_ex__',\n",
       " '__repr__',\n",
       " '__setattr__',\n",
       " '__sizeof__',\n",
       " '__static_attributes__',\n",
       " '__str__',\n",
       " '__subclasshook__',\n",
       " '__weakref__',\n",
       " 'age',\n",
       " 'name']"
      ]
     },
     "execution_count": 2,
     "metadata": {},
     "output_type": "execute_result"
    }
   ],
   "source": [
    "dir(per)"
   ]
  },
  {
   "cell_type": "code",
   "execution_count": null,
   "id": "686d5ebc",
   "metadata": {},
   "outputs": [
    {
     "ename": "AttributeError",
     "evalue": "'Person' object has no attribute '__name'",
     "output_type": "error",
     "traceback": [
      "\u001b[31m---------------------------------------------------------------------------\u001b[39m",
      "\u001b[31mAttributeError\u001b[39m                            Traceback (most recent call last)",
      "\u001b[36mCell\u001b[39m\u001b[36m \u001b[39m\u001b[32mIn[15]\u001b[39m\u001b[32m, line 12\u001b[39m\n\u001b[32m     10\u001b[39m     \u001b[38;5;28;01mreturn\u001b[39;00m person.__name\n\u001b[32m     11\u001b[39m per=Person(\u001b[33m\"\u001b[39m\u001b[33mHimanshu\u001b[39m\u001b[33m\"\u001b[39m,\u001b[32m24\u001b[39m,\u001b[33m\"\u001b[39m\u001b[33mMale\u001b[39m\u001b[33m\"\u001b[39m)\n\u001b[32m---> \u001b[39m\u001b[32m12\u001b[39m get_name(\u001b[43mper\u001b[49m\u001b[43m.\u001b[49m\u001b[43m__name\u001b[49m)\n",
      "\u001b[31mAttributeError\u001b[39m: 'Person' object has no attribute '__name'"
     ]
    }
   ],
   "source": [
    "# private varaible\n",
    "class Person:\n",
    "    def __init__(self,name,age,gender):\n",
    "        self.__name=name # private varaible\n",
    "        self.__age=age   # private variable\n",
    "        self.gender=gender\n",
    "\n",
    "def get_name(person):\n",
    "    return person.__name\n",
    "per=Person(\"Himanshu\",24,\"Male\")\n",
    "get_name(per)\n",
    "\n",
    "\n",
    "\n",
    "        "
   ]
  },
  {
   "cell_type": "code",
   "execution_count": 12,
   "id": "298ff9cc",
   "metadata": {},
   "outputs": [
    {
     "name": "stdout",
     "output_type": "stream",
     "text": [
      "Himanshu\n"
     ]
    }
   ],
   "source": [
    "## protected variable\n",
    "class Person:\n",
    "    def __init__(self,name,age,gender):\n",
    "        self._name=name # private varaible\n",
    "        self._age=age   # private variable\n",
    "        self.gender=gender\n",
    "class Employee(Person):\n",
    "    def __init__(self,name,age,gender):\n",
    "        super().__init__(name,age,gender)\n",
    "\n",
    "\n",
    "Emp=Employee(\"Himanshu\",24,\"Male\")\n",
    "print(Emp._name)\n"
   ]
  },
  {
   "cell_type": "code",
   "execution_count": 23,
   "id": "04b63a66",
   "metadata": {},
   "outputs": [
    {
     "name": "stdout",
     "output_type": "stream",
     "text": [
      "None\n",
      "Himanshu\n",
      "None\n",
      "24\n"
     ]
    }
   ],
   "source": [
    "# Encapsulation with getter and setter\n",
    "class Person:\n",
    "    def __init__(self,name,age):\n",
    "        self.__name=name ## private access modifier\n",
    "        self.__age=age ## Private variable\n",
    "\n",
    "## def getter method for name \n",
    "    def get_name(self):\n",
    "        return self.__name\n",
    "\n",
    "## setter method for name \n",
    "    def set_name(self,name):\n",
    "        self.__name=name\n",
    "\n",
    "\n",
    "## def getter method for age\n",
    "    def get_age(self):\n",
    "        return self.__age\n",
    "\n",
    "## setter method for age\n",
    "    def set_age(self,age):\n",
    "       if age>0:\n",
    "        self.__age=age\n",
    "       else:\n",
    "\n",
    "        print(\"Age cannot be negative.\")\n",
    "\n",
    "per=Person(\"Himanshu\",24)\n",
    "print(per.set_name(\"Himanshu\"))\n",
    "print(per.get_name())\n",
    "print(per.set_age(24))\n",
    "print(per.get_age())\n"
   ]
  }
 ],
 "metadata": {
  "kernelspec": {
   "display_name": "Python 3",
   "language": "python",
   "name": "python3"
  },
  "language_info": {
   "codemirror_mode": {
    "name": "ipython",
    "version": 3
   },
   "file_extension": ".py",
   "mimetype": "text/x-python",
   "name": "python",
   "nbconvert_exporter": "python",
   "pygments_lexer": "ipython3",
   "version": "3.13.0"
  }
 },
 "nbformat": 4,
 "nbformat_minor": 5
}
