{
 "cells": [
  {
   "cell_type": "markdown",
   "id": "89cc91d3",
   "metadata": {},
   "source": [
    "Custom exception (Raise and throw an exception)"
   ]
  },
  {
   "cell_type": "code",
   "execution_count": null,
   "id": "9943f2c4",
   "metadata": {},
   "outputs": [],
   "source": [
    "class Error(Exception):\n",
    "   pass\n",
    "class dobException(Error):\n",
    "    pass"
   ]
  },
  {
   "cell_type": "code",
   "execution_count": null,
   "id": "957f795d",
   "metadata": {},
   "outputs": [],
   "source": [
    "year=int(input(\"Enter the dob\"))\n",
    "age=2024-year\n",
    "try:\n",
    "    if age<30 and age>=20:\n",
    "        print(\"The age is valid so u can apply for the exam\")\n",
    "    else:\n",
    "        raise dobException\n",
    "except dobException:\n",
    "    print(\"sorry,your ageh should be greater than 20 or less than 30\")"
   ]
  }
 ],
 "metadata": {
  "kernelspec": {
   "display_name": "Python 3",
   "language": "python",
   "name": "python3"
  },
  "language_info": {
   "name": "python",
   "version": "3.13.0"
  }
 },
 "nbformat": 4,
 "nbformat_minor": 5
}
