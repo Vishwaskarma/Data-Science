{
 "cells": [
  {
   "cell_type": "markdown",
   "id": "4846c7ac",
   "metadata": {},
   "source": [
    "# Inheritance is a fundamental concept in object-oriented programming (OOP) where a class (called a child or subclass) can inherit attributes and methods from another class (called a parent or superclass).\n",
    "# This allows for code reuse and the creation of hierarchical relationships between classes."
   ]
  },
  {
   "cell_type": "code",
   "execution_count": 1,
   "id": "0973a5d2",
   "metadata": {},
   "outputs": [
    {
     "name": "stdout",
     "output_type": "stream",
     "text": [
      "the user is driving the petrol\n",
      "None\n"
     ]
    }
   ],
   "source": [
    "class Car:\n",
    "    def __init__(self,windows,doors,enginetype):\n",
    "        self.windows=windows\n",
    "        self.doors=doors\n",
    "        self.enginetype=enginetype\n",
    "    def drive(self):\n",
    "        print(f\"the user is driving the {self.enginetype}\")\n",
    "    \n",
    "\n",
    "c1=Car(4,5,\"petrol\")\n",
    "print(c1.drive())"
   ]
  },
  {
   "cell_type": "code",
   "execution_count": 5,
   "id": "7acde423",
   "metadata": {},
   "outputs": [
    {
     "name": "stdout",
     "output_type": "stream",
     "text": [
      "Tesla supports self driving:True\n",
      "None\n"
     ]
    }
   ],
   "source": [
    "class Tesla(Car):\n",
    "    def __init__(self, windows, doors, enginetype,is_selfdriving):\n",
    "        super().__init__(windows, doors, enginetype)\n",
    "        self.is_selfdriving=is_selfdriving\n",
    "    def selfDriving(self):\n",
    "        print(f\"Tesla supports self driving:{self.is_selfdriving}\")\n",
    "\n",
    "tesla=Tesla(4,5,\"Electric\",True)\n",
    "print(tesla.selfDriving())\n",
    "\n"
   ]
  },
  {
   "cell_type": "code",
   "execution_count": 8,
   "id": "cef1ea00",
   "metadata": {},
   "outputs": [
    {
     "name": "stdout",
     "output_type": "stream",
     "text": [
      "Himanshu says Bhow\n"
     ]
    }
   ],
   "source": [
    "# Multiple inheritance is a feature in object-oriented programming where a class can inherit\n",
    "#  attributes and methods from more than one parent class.\n",
    "\n",
    "class Animal:\n",
    "    def __init__(self,name):\n",
    "        def speak(self):\n",
    "            print(\"Subclass must implement this method\")\n",
    "## Base class \n",
    "class pet:\n",
    "    def __init__(self,owner):\n",
    "        self.owner=owner\n",
    "\n",
    "# Derived class \n",
    "class Dog(Animal,pet):\n",
    "    def __init__(self, name,owner):\n",
    "         Animal.__init__(self,name)\n",
    "         pet.__init__(self,owner)\n",
    "    \n",
    "    def speak(self):\n",
    "        return f\"{self.owner} says Bhow\"\n",
    "    \n",
    "dog=Dog(\"Buddy\",\"Himanshu\")\n",
    "print(dog.speak())\n",
    "\n",
    "\n",
    "\n",
    "        \n"
   ]
  },
  {
   "cell_type": "code",
   "execution_count": null,
   "id": "3c32cc33",
   "metadata": {},
   "outputs": [],
   "source": []
  }
 ],
 "metadata": {
  "kernelspec": {
   "display_name": "Python 3",
   "language": "python",
   "name": "python3"
  },
  "language_info": {
   "codemirror_mode": {
    "name": "ipython",
    "version": 3
   },
   "file_extension": ".py",
   "mimetype": "text/x-python",
   "name": "python",
   "nbconvert_exporter": "python",
   "pygments_lexer": "ipython3",
   "version": "3.13.0"
  }
 },
 "nbformat": 4,
 "nbformat_minor": 5
}
