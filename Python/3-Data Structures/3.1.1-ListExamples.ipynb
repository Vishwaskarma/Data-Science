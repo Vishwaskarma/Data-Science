{
 "cells": [
  {
   "cell_type": "code",
   "execution_count": 2,
   "id": "b997cb15",
   "metadata": {},
   "outputs": [
    {
     "name": "stdout",
     "output_type": "stream",
     "text": [
      "Don't fogot to pay the utility Bills\n",
      "To do List remaining\n",
      "Buy Groceries\n",
      "pay bills\n",
      "Schedule the metting\n",
      "Go for a Run\n"
     ]
    }
   ],
   "source": [
    "to_do_List=[\"Buy Groceries\",\"clean the house\",\"pay bills\"]\n",
    "\n",
    "\n",
    "## Adding to task\n",
    "to_do_List.append(\"Schedule the metting\")\n",
    "to_do_List.append(\"Go for a Run\")\n",
    "\n",
    "## Removing the completed task\n",
    "to_do_List.remove(\"clean the house\")\n",
    "\n",
    "## checking a task is in List\n",
    "if \"pay bills\" in to_do_List:\n",
    "    print(\"Don't fogot to pay the utility Bills\")\n",
    "print(\"To do List remaining\")\n",
    "for task in to_do_List:\n",
    "    print(f\"{task}\")"
   ]
  },
  {
   "cell_type": "markdown",
   "id": "a9455b6c",
   "metadata": {},
   "source": []
  },
  {
   "cell_type": "code",
   "execution_count": null,
   "id": "712d7fe1",
   "metadata": {},
   "outputs": [
    {
     "name": "stdout",
     "output_type": "stream",
     "text": [
      "Average Grade:88.17\n",
      "Highest Grade:96\n",
      "Lowest_grade:78\n"
     ]
    }
   ],
   "source": [
    "grades=[85,92,78,90,88]\n",
    "\n",
    "\n",
    "##  Addingm a new grade\n",
    "grades.append(96)\n",
    "\n",
    "## Calculating the average grade\n",
    "average_grade=sum(grades)/len(grades)\n",
    "print(f\"Average Grade:{average_grade:.2f}\")\n",
    "\n",
    "## finding the highest and Lowest grade\n",
    "highest_grade=max(grades)\n",
    "lowest_grade=min(grades)\n",
    "print(f\"Highest Grade:{highest_grade}\")\n",
    "print(f\"Lowest_grade:{lowest_grade}\")"
   ]
  },
  {
   "cell_type": "code",
   "execution_count": null,
   "id": "1489690b",
   "metadata": {},
   "outputs": [
    {
     "name": "stdout",
     "output_type": "stream",
     "text": [
      "oranges are in stock.\n"
     ]
    }
   ],
   "source": [
    "## Managing the Inventory\n",
    "Inventory=[\"apple\",\"Banana\",\"oranges\",\"grapes\"]\n",
    "\n",
    "\n",
    "## Adding a new Item\n",
    "Inventory.append(\"strawberries\")\n",
    "\n",
    "## Checking if an item that is out of stock\n",
    "item=\"oranges\"\n",
    "if item in Inventory:\n",
    "    print(f\"{item} are in stock.\")\n",
    "else:\n",
    "    print(f\"{item} arfe not in stock.\")"
   ]
  },
  {
   "cell_type": "code",
   "execution_count": null,
   "id": "c8202cb2",
   "metadata": {},
   "outputs": [],
   "source": []
  }
 ],
 "metadata": {
  "kernelspec": {
   "display_name": "Python 3",
   "language": "python",
   "name": "python3"
  },
  "language_info": {
   "codemirror_mode": {
    "name": "ipython",
    "version": 3
   },
   "file_extension": ".py",
   "mimetype": "text/x-python",
   "name": "python",
   "nbconvert_exporter": "python",
   "pygments_lexer": "ipython3",
   "version": "3.13.0"
  }
 },
 "nbformat": 4,
 "nbformat_minor": 5
}
