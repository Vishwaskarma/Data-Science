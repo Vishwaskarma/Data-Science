{
 "cells": [
  {
   "cell_type": "code",
   "execution_count": null,
   "id": "7a75e501",
   "metadata": {},
   "outputs": [],
   "source": [
    "## Dictionaries are unordered collection of items.They store data in key-value pairs.\n",
    "#  Keys must be uniquje and immutable (e.g, string,number,or tuples).\n",
    "#  while values can be of any tyhpe \n",
    "\n"
   ]
  },
  {
   "cell_type": "code",
   "execution_count": 3,
   "id": "97a3b399",
   "metadata": {},
   "outputs": [
    {
     "name": "stdout",
     "output_type": "stream",
     "text": [
      "<class 'dict'>\n"
     ]
    }
   ],
   "source": [
    "## There are two ways to create empty dictionary\n",
    "empty_dict={}\n",
    "empty_dict=dict()\n",
    "print(type(empty_dict))"
   ]
  },
  {
   "cell_type": "code",
   "execution_count": 1,
   "id": "23fc240a",
   "metadata": {},
   "outputs": [
    {
     "name": "stdout",
     "output_type": "stream",
     "text": [
      "{'name': '24', 'age': '24', 'grade': '24'}\n"
     ]
    }
   ],
   "source": [
    "student={\"name\":\"Himanshu\",\"age\":\"24\",\"grade\":\"24\",\"name\":\"24\"}\n",
    "print(student)\n"
   ]
  },
  {
   "cell_type": "code",
   "execution_count": null,
   "id": "ed54a4ba",
   "metadata": {},
   "outputs": [
    {
     "name": "stdout",
     "output_type": "stream",
     "text": [
      "Himanshu\n",
      "24\n"
     ]
    }
   ],
   "source": [
    "## Accessing the dictionary values \n",
    "print(student[\"name\"])\n",
    "print(student[\"grade\"])"
   ]
  },
  {
   "cell_type": "code",
   "execution_count": 10,
   "id": "42b4a3c7",
   "metadata": {},
   "outputs": [
    {
     "name": "stdout",
     "output_type": "stream",
     "text": [
      "Himanshu\n",
      "24\n"
     ]
    }
   ],
   "source": [
    "## Accessing using get() method\n",
    "print(student.get(\"name\"))\n",
    "print(student.get(\"age\"))"
   ]
  },
  {
   "cell_type": "code",
   "execution_count": 3,
   "id": "e0f4bdf2",
   "metadata": {},
   "outputs": [
    {
     "name": "stdout",
     "output_type": "stream",
     "text": [
      "{'name': 'Himanshu', 'age': '24', 'grade': 'A'}\n",
      "24\n"
     ]
    }
   ],
   "source": [
    "## Accessing Dictionary Elements\n",
    "student2={\"name\":\"Himanshu\",\"age\":\"24\",\"grade\":\"A\"}\n",
    "print(student2)\n",
    "print(student2[\"age\"])"
   ]
  },
  {
   "cell_type": "code",
   "execution_count": 5,
   "id": "00ac8d19",
   "metadata": {},
   "outputs": [
    {
     "name": "stdout",
     "output_type": "stream",
     "text": [
      "A\n"
     ]
    }
   ],
   "source": [
    "## Accessing Dictionary method using get method (Inbuilt Method)\n",
    "print(student2.get('grade'))"
   ]
  },
  {
   "cell_type": "code",
   "execution_count": null,
   "id": "2f205132",
   "metadata": {},
   "outputs": [
    {
     "name": "stdout",
     "output_type": "stream",
     "text": [
      "{'name': 'Himanshu', 'age': '24', 'grade': 'A', 'address': 'Dhaniv baug Nallasopara east'}\n",
      "{'name': 'Himanshu', 'age': '333', 'grade': 'A', 'address': 'Dhaniv baug Nallasopara east'}\n",
      "{'name': 'Himanshu', 'age': '333', 'grade': 'A', 'address': 'Dhaniv baug Nallasopara east'}\n"
     ]
    }
   ],
   "source": [
    "## Modifying Dictionary Elements\n",
    "## Dikctionary are mutable, so Yhou can update and delete elements\n",
    "\n",
    "\n",
    "\n",
    "## updating a value for key\n",
    "student2[\"age\"]=\"333\"\n",
    "\n",
    "## Added a new value\n",
    "print(student2)\n",
    "student2[\"address\"]=\"Dhaniv baug Nallasopara east\"\n",
    "print(student2)"
   ]
  },
  {
   "cell_type": "code",
   "execution_count": 17,
   "id": "e24f121e",
   "metadata": {},
   "outputs": [
    {
     "name": "stdout",
     "output_type": "stream",
     "text": [
      "{'name': 'Himanshu', 'age': '333', 'address': 'Dhaniv baug Nallasopara east'}\n",
      "{'name': 'Himanshu', 'address': 'Dhaniv baug Nallasopara east'}\n"
     ]
    }
   ],
   "source": [
    "## Deliting a key from Dictionary\n",
    "\n",
    "print(student2)\n",
    "del student2[\"age\"] \n",
    "print(student2)"
   ]
  },
  {
   "cell_type": "code",
   "execution_count": 18,
   "id": "22570f29",
   "metadata": {},
   "outputs": [
    {
     "name": "stdout",
     "output_type": "stream",
     "text": [
      "{'name': 'Himanshu', 'address': 'Dhaniv baug Nallasopara east'}\n"
     ]
    }
   ],
   "source": [
    "## shallow copy\n",
    "student_copy=student2\n",
    "print(student_copy)"
   ]
  },
  {
   "cell_type": "code",
   "execution_count": 19,
   "id": "39c20944",
   "metadata": {},
   "outputs": [
    {
     "name": "stdout",
     "output_type": "stream",
     "text": [
      "{'name': 'Himanshu', 'address': 'Dhaniv baug Nallasopara east'}\n",
      "{'name': 'Himanshu', 'address': 'Dhaniv baug Nallasopara east'}\n"
     ]
    }
   ],
   "source": [
    "student[\"name\"]=\"Himanshu\"\n",
    "print(student2)\n",
    "print(student_copy)"
   ]
  },
  {
   "cell_type": "code",
   "execution_count": 21,
   "id": "e3051893",
   "metadata": {},
   "outputs": [
    {
     "name": "stdout",
     "output_type": "stream",
     "text": [
      "{'name': 'Himanshu', 'address': 'Dhaniv baug Nallasopara east'}\n",
      "{'name': 'prince', 'age': '24', 'grade': '24'}\n",
      "{'name': 'Himanshu', 'address': 'Dhaniv baug Nallasopara east'}\n",
      "{'name': 'prince', 'age': '24', 'grade': '24'}\n"
     ]
    }
   ],
   "source": [
    "student_copy1=student.copy()  ## shallow copy\n",
    "print(student2)\n",
    "print(student_copy1)\n",
    "\n",
    "student[\"name\"]=\"prince\"\n",
    "print(student2)\n",
    "print(student_copy1)\n",
    "\n"
   ]
  },
  {
   "cell_type": "code",
   "execution_count": 23,
   "id": "67fbc132",
   "metadata": {},
   "outputs": [
    {
     "name": "stdout",
     "output_type": "stream",
     "text": [
      "name\n",
      "address\n",
      "name\n",
      "age\n",
      "grade\n"
     ]
    }
   ],
   "source": [
    "## Iterating over Dicytionaries\n",
    "## You can usje loops to iterative over dictionaries ,or items\n",
    "\n",
    "## Iterating over Keys\n",
    "for keys in student2.keys():\n",
    "    print(keys)\n",
    "\n",
    "for key in student_copy1.keys():\n",
    "    print(key)\n",
    "\n"
   ]
  },
  {
   "cell_type": "code",
   "execution_count": 24,
   "id": "2f26adc6",
   "metadata": {},
   "outputs": [
    {
     "name": "stdout",
     "output_type": "stream",
     "text": [
      "prince\n",
      "24\n",
      "24\n"
     ]
    }
   ],
   "source": [
    "## Ietrate Over values\n",
    "for values in student_copy1.values():\n",
    "    print(values)"
   ]
  },
  {
   "cell_type": "code",
   "execution_count": 25,
   "id": "e923bb78",
   "metadata": {},
   "outputs": [
    {
     "name": "stdout",
     "output_type": "stream",
     "text": [
      "{'student1': {'name': 'Himanshu', 'age': '24', 'address': 'Dhaniv baug Nallaospara East'}, 'student2': {'name': 'prince', 'age': '23', 'address': 'ganesh KNagara Nallasopara east'}, 'student3': {'name': 'vishwas', 'age': '22', 'address': 'vasai Nallasopara east'}}\n"
     ]
    }
   ],
   "source": [
    "## Nested Dictionaries\n",
    "stu={\n",
    "    \"student1\":{\"name\":\"Himanshu\",\"age\":\"24\",\"address\":\"Dhaniv baug Nallaospara East\"},\n",
    "    \"student2\":{\"name\":\"prince\",\"age\":\"23\",\"address\":\"ganesh KNagara Nallasopara east\"},\n",
    "    \"student3\":{\"name\":\"vishwas\",\"age\":\"22\",\"address\":\"vasai Nallasopara east\"}\n",
    "}\n",
    "print(stu)"
   ]
  },
  {
   "cell_type": "code",
   "execution_count": 29,
   "id": "e5d3144f",
   "metadata": {},
   "outputs": [
    {
     "name": "stdout",
     "output_type": "stream",
     "text": [
      "Himanshu\n",
      "prince\n"
     ]
    },
    {
     "data": {
      "text/plain": [
       "'vishwas'"
      ]
     },
     "execution_count": 29,
     "metadata": {},
     "output_type": "execute_result"
    }
   ],
   "source": [
    "## Access the nested Dictionaries Element\n",
    "print(stu[\"student1\"][\"name\"])\n",
    "print(stu[\"student2\"][\"name\"])\n",
    "stu[\"student3\"][\"name\"]"
   ]
  },
  {
   "cell_type": "code",
   "execution_count": 30,
   "id": "6f1cd31e",
   "metadata": {},
   "outputs": [
    {
     "name": "stdout",
     "output_type": "stream",
     "text": [
      "student1:{'name': 'Himanshu', 'age': '24', 'address': 'Dhaniv baug Nallaospara East'}\n",
      "name:Himanshu\n",
      "age:24\n",
      "address:Dhaniv baug Nallaospara East\n",
      "student2:{'name': 'prince', 'age': '23', 'address': 'ganesh KNagara Nallasopara east'}\n",
      "name:prince\n",
      "age:23\n",
      "address:ganesh KNagara Nallasopara east\n",
      "student3:{'name': 'vishwas', 'age': '22', 'address': 'vasai Nallasopara east'}\n",
      "name:vishwas\n",
      "age:22\n",
      "address:vasai Nallasopara east\n"
     ]
    }
   ],
   "source": [
    "## Iterating over Nested Dictionaries\n",
    "for student_id,student_info in stu.items():\n",
    "    print(f\"{student_id}:{student_info}\")\n",
    "    for key,value in student_info.items():\n",
    "        print(f\"{key}:{value}\")"
   ]
  },
  {
   "cell_type": "code",
   "execution_count": 31,
   "id": "94222e70",
   "metadata": {},
   "outputs": [
    {
     "name": "stdout",
     "output_type": "stream",
     "text": [
      "{0: 0, 1: 1, 2: 4, 3: 9, 4: 16}\n"
     ]
    }
   ],
   "source": [
    "## Dicktionary Comprehension\n",
    "squares={ x:x**2 for x in range(5)}\n",
    "print(squares)"
   ]
  },
  {
   "cell_type": "code",
   "execution_count": 32,
   "id": "ff2abbd4",
   "metadata": {},
   "outputs": [
    {
     "name": "stdout",
     "output_type": "stream",
     "text": [
      "{0: 0, 2: 4, 4: 16, 6: 36, 8: 64}\n"
     ]
    }
   ],
   "source": [
    "## Conditional Dictionary Comprehension\n",
    "even={x:x**2 for x in range(10) if x%2==0}\n",
    "print(even)"
   ]
  },
  {
   "cell_type": "code",
   "execution_count": 33,
   "id": "18fc3f78",
   "metadata": {},
   "outputs": [
    {
     "name": "stdout",
     "output_type": "stream",
     "text": [
      "{4: 1}\n"
     ]
    }
   ],
   "source": [
    "## Practicle Example\n",
    "## use Dictionary to count the ferequency element in the list\n",
    "numbers=[1,2,2,2,3,3,3,3,4,4,4,4]\n",
    "frequency={}\n",
    "for number in numbers:\n",
    "    if number in frequency:\n",
    "        frequency[number]+=1\n",
    "else:\n",
    "    frequency[number]=1 \n",
    "print(frequency)   "
   ]
  },
  {
   "cell_type": "code",
   "execution_count": 34,
   "id": "36544be1",
   "metadata": {},
   "outputs": [
    {
     "name": "stdout",
     "output_type": "stream",
     "text": [
      "{'a': 1, 'b': 3, 'c': 4}\n"
     ]
    }
   ],
   "source": [
    "## Merge two Dictionaries into single Dictionary\n",
    "dict1={\"a\":1,\"b\":2}\n",
    "dict2={\"b\":3,\"c\":4}\n",
    "merged_dict={**dict1,**dict2}\n",
    "print(merged_dict)\n"
   ]
  },
  {
   "cell_type": "code",
   "execution_count": null,
   "id": "c084ca44",
   "metadata": {},
   "outputs": [],
   "source": []
  }
 ],
 "metadata": {
  "kernelspec": {
   "display_name": "Python 3",
   "language": "python",
   "name": "python3"
  },
  "language_info": {
   "codemirror_mode": {
    "name": "ipython",
    "version": 3
   },
   "file_extension": ".py",
   "mimetype": "text/x-python",
   "name": "python",
   "nbconvert_exporter": "python",
   "pygments_lexer": "ipython3",
   "version": "3.13.0"
  }
 },
 "nbformat": 4,
 "nbformat_minor": 5
}
