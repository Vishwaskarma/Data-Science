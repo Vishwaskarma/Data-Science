{
 "cells": [
  {
   "cell_type": "code",
   "execution_count": 1,
   "id": "58d5bbdf",
   "metadata": {},
   "outputs": [
    {
     "name": "stdout",
     "output_type": "stream",
     "text": [
      "Hello there my name is Himanshu yadav\n",
      "i am good\n",
      "what about u\n",
      "welcome to dta science  stupid course\n",
      "\n"
     ]
    }
   ],
   "source": [
    "## Read a file and print its contents\n",
    "\n",
    "with open('example.txt','r') as file:\n",
    "    content=file.read()\n",
    "    print(content)"
   ]
  },
  {
   "cell_type": "code",
   "execution_count": 4,
   "id": "f85b2d65",
   "metadata": {},
   "outputs": [
    {
     "name": "stdout",
     "output_type": "stream",
     "text": [
      "Hello there my name is Himanshu yadav\n",
      "i am good\n",
      "what about u\n",
      "welcome to dta science  stupid course\n"
     ]
    }
   ],
   "source": [
    "## Read file line by line\n",
    "with open('example.txt','r') as file:\n",
    "    for line in file:\n",
    "        print(line.strip())  # Using strip() to remove leading/trailing whitespace\n"
   ]
  },
  {
   "cell_type": "code",
   "execution_count": 5,
   "id": "c333e0fd",
   "metadata": {},
   "outputs": [],
   "source": [
    "## Writing a file and adding some content\n",
    "with open('example.txt','w')as file:\n",
    "    file.write(\"This is a new line added to the file.\\n\")\n",
    "    file.write(\"This is another line.\\n\")"
   ]
  },
  {
   "cell_type": "code",
   "execution_count": 6,
   "id": "b14b87ec",
   "metadata": {},
   "outputs": [],
   "source": [
    "## write file without (overwriting)\n",
    "\n",
    "with open('example.txt','a')as file:\n",
    "    file.write(\"This line is appended to the file.\\n\")\n",
    "    file.write(\"Appending another line.\\n\")"
   ]
  },
  {
   "cell_type": "code",
   "execution_count": 7,
   "id": "230f066e",
   "metadata": {},
   "outputs": [],
   "source": [
    "## Writing of list of lines of a file\n",
    "lines = [\"First line\\n\", \"Second line\\n\", \"Third line\\n\"]\n",
    "with open('example.txt', 'w') as file:\n",
    "    file.writelines(lines)\n"
   ]
  },
  {
   "cell_type": "code",
   "execution_count": 11,
   "id": "efd9438d",
   "metadata": {},
   "outputs": [],
   "source": [
    "### Binary File Handling\n",
    "# Writing binary data to a file\n",
    "data=b'\\x00\\xFF\\x7A\\x3C'\n",
    "with open('example.bin', 'wb') as bin_file:\n",
    "    bin_file.write(data)"
   ]
  },
  {
   "cell_type": "code",
   "execution_count": 12,
   "id": "7260ef53",
   "metadata": {},
   "outputs": [
    {
     "name": "stdout",
     "output_type": "stream",
     "text": [
      "b'\\x00\\xef\\xbf\\xbdz<'\n"
     ]
    }
   ],
   "source": [
    "## Reading a binary file \n",
    "with open('example.bin','rb') as readbin_file:\n",
    "    content=readbin_file.read()\n",
    "    print(content)"
   ]
  },
  {
   "cell_type": "code",
   "execution_count": 13,
   "id": "d292af5a",
   "metadata": {},
   "outputs": [],
   "source": [
    "## Reading a content  from source text file and writing it to destination text file\n",
    "with open('example.txt','r') as source_file:\n",
    "    content=source_file.read()\n",
    "with open('destination.txt','w') as dest_file:\n",
    "    dest_file.write(content)\n",
    "    "
   ]
  },
  {
   "cell_type": "code",
   "execution_count": 14,
   "id": "c595546c",
   "metadata": {},
   "outputs": [],
   "source": [
    "## Read the file and count the number of lines ,wolrd,and characters"
   ]
  },
  {
   "cell_type": "code",
   "execution_count": null,
   "id": "7f59b1c1",
   "metadata": {},
   "outputs": [
    {
     "name": "stdout",
     "output_type": "stream",
     "text": [
      "Hello world\n",
      "This is a sample file.\n",
      "It contains multiple lines.\n",
      "\n"
     ]
    }
   ],
   "source": [
    "##  writing and then reading the file\n",
    "with open('example.txt','w+') as file:\n",
    "    file.write(\"Hello world\\n\")\n",
    "    file.write(\"This is a sample file.\\n\")\n",
    "    file.write(\"It contains multiple lines.\\n\")\n",
    "\n",
    "\n",
    "## move the cursor to the begining of soyurce file \n",
    "    # file.seek(0)\n",
    "    content=file.read()\n",
    "    print(content)"
   ]
  },
  {
   "cell_type": "code",
   "execution_count": null,
   "id": "c405ad87",
   "metadata": {},
   "outputs": [],
   "source": []
  }
 ],
 "metadata": {
  "kernelspec": {
   "display_name": "Python 3",
   "language": "python",
   "name": "python3"
  },
  "language_info": {
   "codemirror_mode": {
    "name": "ipython",
    "version": 3
   },
   "file_extension": ".py",
   "mimetype": "text/x-python",
   "name": "python",
   "nbconvert_exporter": "python",
   "pygments_lexer": "ipython3",
   "version": "3.13.0"
  }
 },
 "nbformat": 4,
 "nbformat_minor": 5
}
