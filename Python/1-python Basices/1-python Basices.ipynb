{
 "cells": [
  {
   "cell_type": "code",
   "execution_count": 1,
   "id": "d71a7a83",
   "metadata": {},
   "outputs": [
    {
     "name": "stdout",
     "output_type": "stream",
     "text": [
      "hello world\n"
     ]
    }
   ],
   "source": [
    "print(\"hello world\")"
   ]
  },
  {
   "cell_type": "code",
   "execution_count": 3,
   "id": "33f62d81",
   "metadata": {},
   "outputs": [
    {
     "data": {
      "text/plain": [
       "2"
      ]
     },
     "execution_count": 3,
     "metadata": {},
     "output_type": "execute_result"
    }
   ],
   "source": [
    "1+1"
   ]
  },
  {
   "cell_type": "code",
   "execution_count": null,
   "id": "b6ff1c26",
   "metadata": {},
   "outputs": [],
   "source": [
    "#single line comment\n",
    "\"\"\"multiple line comment\"\"\""
   ]
  },
  {
   "cell_type": "code",
   "execution_count": null,
   "id": "6a8ed1e8",
   "metadata": {},
   "outputs": [
    {
     "name": "stdout",
     "output_type": "stream",
     "text": [
      "himanshu himansuh\n"
     ]
    }
   ],
   "source": [
    "##python is case sensitive Language\n",
    "name=\"himanshu\"\n",
    "Name=\"himansuh\"\n",
    "print(name,Name)"
   ]
  },
  {
   "cell_type": "code",
   "execution_count": 9,
   "id": "b6a74d88",
   "metadata": {},
   "outputs": [
    {
     "name": "stdout",
     "output_type": "stream",
     "text": [
      "u are not mature\n"
     ]
    }
   ],
   "source": [
    "##indentation\n",
    "#python uses indentation to define block of code unlike many other programming language uses braces to define a block of code \n",
    "\n",
    "age=19\n",
    "if age>20:\n",
    "    print(\"u are  mature\")\n",
    "else:\n",
    "    print(\"u are not mature\")"
   ]
  },
  {
   "cell_type": "code",
   "execution_count": 11,
   "id": "ef1144bf",
   "metadata": {},
   "outputs": [
    {
     "name": "stdout",
     "output_type": "stream",
     "text": [
      "43\n"
     ]
    }
   ],
   "source": [
    "## Line continuation\n",
    "total=1+2+3+4+5+6+\\\n",
    "4+5+6+7\n",
    "print(total)"
   ]
  },
  {
   "cell_type": "code",
   "execution_count": 12,
   "id": "f5a1c44a",
   "metadata": {},
   "outputs": [
    {
     "name": "stdout",
     "output_type": "stream",
     "text": [
      "15\n"
     ]
    }
   ],
   "source": [
    "## multipel statement in single line\n",
    "x=5;y=10;z=x+y\n",
    "print(z)"
   ]
  },
  {
   "cell_type": "code",
   "execution_count": 13,
   "id": "af05efdd",
   "metadata": {},
   "outputs": [
    {
     "name": "stdout",
     "output_type": "stream",
     "text": [
      "24 Himanshu\n"
     ]
    }
   ],
   "source": [
    "##understand semantices in python\n",
    "#varaible assignment\n",
    "\n",
    "age=24 ##age ais an interger\n",
    "name=\"Himanshu\" ## name is an string \n",
    "print(age,name)"
   ]
  },
  {
   "cell_type": "code",
   "execution_count": 15,
   "id": "9aa9cddb",
   "metadata": {},
   "outputs": [
    {
     "name": "stdout",
     "output_type": "stream",
     "text": [
      "<class 'int'>\n",
      "<class 'str'>\n"
     ]
    }
   ],
   "source": [
    "##type checking\n",
    "print(type(age))\n",
    "print(type(name))"
   ]
  },
  {
   "cell_type": "code",
   "execution_count": 17,
   "id": "b9133547",
   "metadata": {},
   "outputs": [
    {
     "ename": "NameError",
     "evalue": "name 'b' is not defined",
     "output_type": "error",
     "traceback": [
      "\u001b[31m---------------------------------------------------------------------------\u001b[39m",
      "\u001b[31mNameError\u001b[39m                                 Traceback (most recent call last)",
      "\u001b[36mCell\u001b[39m\u001b[36m \u001b[39m\u001b[32mIn[17]\u001b[39m\u001b[32m, line 2\u001b[39m\n\u001b[32m      1\u001b[39m \u001b[38;5;66;03m## Name Error\u001b[39;00m\n\u001b[32m----> \u001b[39m\u001b[32m2\u001b[39m a=\u001b[43mb\u001b[49m\n\u001b[32m      3\u001b[39m \u001b[38;5;28mprint\u001b[39m(b)\n",
      "\u001b[31mNameError\u001b[39m: name 'b' is not defined"
     ]
    }
   ],
   "source": [
    "## Name Error\n",
    "a=b\n",
    "print(b)"
   ]
  },
  {
   "cell_type": "code",
   "execution_count": 18,
   "id": "f0c0dcf1",
   "metadata": {},
   "outputs": [
    {
     "name": "stdout",
     "output_type": "stream",
     "text": [
      "Hello this is true\n",
      "this will print\n",
      "this is outof print  if statement\n"
     ]
    }
   ],
   "source": [
    "if True:\n",
    "    print(\"Hello this is true\")\n",
    "    if False:\n",
    "        print(\"this is False\")\n",
    "    print(\"this will print\")\n",
    "print(\"this is outof print  if statement\")"
   ]
  },
  {
   "cell_type": "code",
   "execution_count": null,
   "id": "08c71e80",
   "metadata": {},
   "outputs": [],
   "source": []
  }
 ],
 "metadata": {
  "kernelspec": {
   "display_name": "Python 3",
   "language": "python",
   "name": "python3"
  },
  "language_info": {
   "codemirror_mode": {
    "name": "ipython",
    "version": 3
   },
   "file_extension": ".py",
   "mimetype": "text/x-python",
   "name": "python",
   "nbconvert_exporter": "python",
   "pygments_lexer": "ipython3",
   "version": "3.13.1"
  }
 },
 "nbformat": 4,
 "nbformat_minor": 5
}
