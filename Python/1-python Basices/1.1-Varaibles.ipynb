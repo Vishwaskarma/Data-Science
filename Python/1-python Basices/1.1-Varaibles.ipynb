{
 "cells": [
  {
   "cell_type": "code",
   "execution_count": 2,
   "id": "8b70c02a",
   "metadata": {},
   "outputs": [],
   "source": [
    "## varaibles\n",
    "\"\"\" varaibles are fundamental elememnt in programming language used \n",
    "to store data that can be refrenced and manipulated in programe. in\n",
    " python  varaibles are created when u assign a value to them and they \n",
    " do not need explicit declaration to reserve memeory space .\n",
    " the declaration happens automatically when u assign a value to a varaible \"\"\"\n",
    "\n",
    "\n",
    "age=24\n",
    "\n",
    "\n"
   ]
  },
  {
   "cell_type": "code",
   "execution_count": 5,
   "id": "85f27c0f",
   "metadata": {},
   "outputs": [
    {
     "name": "stdout",
     "output_type": "stream",
     "text": [
      "24 5.8 Himanshu vishwakarma\n",
      "<class 'bool'>\n"
     ]
    }
   ],
   "source": [
    "## declarting and assigning varaibles\n",
    "\n",
    "age=24\n",
    "height=5.8\n",
    "name=\"Himanshu vishwakarma\"\n",
    "print(age,height,name)\n",
    "is_Men=True\n",
    "print(type(is_Men))\n"
   ]
  },
  {
   "cell_type": "code",
   "execution_count": 6,
   "id": "ee972d3b",
   "metadata": {},
   "outputs": [],
   "source": [
    "## Naming convention\n",
    "## varaible name should be descriptive\n",
    "## they must start with a letter or an '_' and contains letter ,number and underscores \n",
    "## varaible name are case sensitive\n",
    "\n",
    "#valid names\n",
    "\n",
    "first_name=\"Himanshu\"\n",
    "last_name=\"Vishwakarma\"\n"
   ]
  },
  {
   "cell_type": "code",
   "execution_count": 7,
   "id": "4970fe4a",
   "metadata": {},
   "outputs": [
    {
     "ename": "SyntaxError",
     "evalue": "invalid decimal literal (1839482436.py, line 1)",
     "output_type": "error",
     "traceback": [
      "  \u001b[36mCell\u001b[39m\u001b[36m \u001b[39m\u001b[32mIn[7]\u001b[39m\u001b[32m, line 1\u001b[39m\n\u001b[31m    \u001b[39m\u001b[31m2age=24\u001b[39m\n    ^\n\u001b[31mSyntaxError\u001b[39m\u001b[31m:\u001b[39m invalid decimal literal\n"
     ]
    }
   ],
   "source": [
    "2age=24"
   ]
  },
  {
   "cell_type": "code",
   "execution_count": 10,
   "id": "6059ddfb",
   "metadata": {},
   "outputs": [
    {
     "name": "stdout",
     "output_type": "stream",
     "text": [
      "<class 'float'>\n",
      "True\n"
     ]
    }
   ],
   "source": [
    "name=\"himanshu\"\n",
    "Name=\"himanshu\"\n",
    "age=5.8\n",
    "print(type(age))\n",
    "print(name==Name)"
   ]
  },
  {
   "cell_type": "code",
   "execution_count": 16,
   "id": "0df88d70",
   "metadata": {},
   "outputs": [
    {
     "name": "stdout",
     "output_type": "stream",
     "text": [
      "<class 'int'>\n",
      "24\n",
      "<class 'int'>\n"
     ]
    }
   ],
   "source": [
    "##type conversion\n",
    "age=24\n",
    "print(type(age))\n",
    "\n",
    "#type convertion\n",
    "age_str=str(age)\n",
    "print(age_str)\n",
    "print(type(age))\n",
    "\n",
    "\n",
    "\n"
   ]
  },
  {
   "cell_type": "code",
   "execution_count": 17,
   "id": "09a536d0",
   "metadata": {},
   "outputs": [
    {
     "name": "stdout",
     "output_type": "stream",
     "text": [
      "5\n"
     ]
    }
   ],
   "source": [
    "height2=5.8\n",
    "print(int(height2))"
   ]
  },
  {
   "cell_type": "code",
   "execution_count": null,
   "id": "cb7dc7a4",
   "metadata": {},
   "outputs": [
    {
     "name": "stdout",
     "output_type": "stream",
     "text": [
      "10 <class 'int'>\n"
     ]
    }
   ],
   "source": [
    "## dynamic typing\n",
    "## Python allowes the type of nvaraible to chanjge as ther plrokgrame executes\n",
    "var=10 #int \n",
    "print(var,type(var))\n",
    "\n"
   ]
  },
  {
   "cell_type": "code",
   "execution_count": 25,
   "id": "210528d6",
   "metadata": {},
   "outputs": [
    {
     "name": "stdout",
     "output_type": "stream",
     "text": [
      "5 <class 'int'>\n"
     ]
    }
   ],
   "source": [
    "#input\n",
    "age=int(input(\"what is the age\"))\n",
    "\n",
    "print(age,type(age))"
   ]
  },
  {
   "cell_type": "code",
   "execution_count": 26,
   "id": "825358c9",
   "metadata": {},
   "outputs": [
    {
     "name": "stdout",
     "output_type": "stream",
     "text": [
      "Sum: 5.0\n",
      "Difference: -1.0\n",
      "product: 6.0\n",
      "quotient 0.6666666666666666\n"
     ]
    }
   ],
   "source": [
    "## Simple Calculator\n",
    "num1=float(input(\"Enter Your Number\"))\n",
    "num2=float(input(\"Enter Your Number\"))\n",
    "\n",
    "sum=num1+num2\n",
    "difference=num1-num2\n",
    "product=num1*num2\n",
    "quotient=num1/num2\n",
    "\n",
    "print(\"Sum:\",sum)\n",
    "print(\"Difference:\",difference)\n",
    "print(\"product:\",product)\n",
    "print(\"quotient\",quotient)"
   ]
  },
  {
   "cell_type": "code",
   "execution_count": null,
   "id": "379c7054",
   "metadata": {},
   "outputs": [],
   "source": []
  }
 ],
 "metadata": {
  "kernelspec": {
   "display_name": "Python 3",
   "language": "python",
   "name": "python3"
  },
  "language_info": {
   "codemirror_mode": {
    "name": "ipython",
    "version": 3
   },
   "file_extension": ".py",
   "mimetype": "text/x-python",
   "name": "python",
   "nbconvert_exporter": "python",
   "pygments_lexer": "ipython3",
   "version": "3.13.1"
  }
 },
 "nbformat": 4,
 "nbformat_minor": 5
}
