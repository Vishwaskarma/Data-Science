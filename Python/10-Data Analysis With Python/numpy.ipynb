{
 "cells": [
  {
   "cell_type": "markdown",
   "id": "8255810a",
   "metadata": {},
   "source": [
    "Numpy is a fundamental library for scientiic calculation in python. it provikdes support for arrays and matrices along with a collection of Mathematical function to operate on these data structures. In this lesson,\n",
    "we will cover the basices of Numpy,focusing on arrays and vectorized operations."
   ]
  },
  {
   "cell_type": "code",
   "execution_count": 1,
   "id": "b0da7787",
   "metadata": {},
   "outputs": [
    {
     "name": "stdout",
     "output_type": "stream",
     "text": [
      "Collecting numpy\n",
      "  Downloading numpy-2.3.3-cp313-cp313-win_amd64.whl.metadata (60 kB)\n",
      "Downloading numpy-2.3.3-cp313-cp313-win_amd64.whl (12.8 MB)\n",
      "   ---------------------------------------- 0.0/12.8 MB ? eta -:--:--\n",
      "    --------------------------------------- 0.3/12.8 MB ? eta -:--:--\n",
      "   - -------------------------------------- 0.5/12.8 MB 2.8 MB/s eta 0:00:05\n",
      "   -- ------------------------------------- 0.8/12.8 MB 1.7 MB/s eta 0:00:07\n",
      "   --- ------------------------------------ 1.0/12.8 MB 1.4 MB/s eta 0:00:09\n",
      "   ---- ----------------------------------- 1.3/12.8 MB 1.3 MB/s eta 0:00:09\n",
      "   ------ --------------------------------- 2.1/12.8 MB 1.7 MB/s eta 0:00:07\n",
      "   ------- -------------------------------- 2.4/12.8 MB 1.8 MB/s eta 0:00:06\n",
      "   -------- ------------------------------- 2.6/12.8 MB 1.8 MB/s eta 0:00:06\n",
      "   --------- ------------------------------ 3.1/12.8 MB 1.7 MB/s eta 0:00:06\n",
      "   ----------- ---------------------------- 3.7/12.8 MB 1.8 MB/s eta 0:00:05\n",
      "   ------------- -------------------------- 4.5/12.8 MB 2.0 MB/s eta 0:00:05\n",
      "   --------------- ------------------------ 5.0/12.8 MB 2.0 MB/s eta 0:00:04\n",
      "   --------------- ------------------------ 5.0/12.8 MB 2.0 MB/s eta 0:00:04\n",
      "   ---------------- ----------------------- 5.2/12.8 MB 1.8 MB/s eta 0:00:05\n",
      "   ------------------ --------------------- 5.8/12.8 MB 1.9 MB/s eta 0:00:04\n",
      "   ------------------- -------------------- 6.3/12.8 MB 1.9 MB/s eta 0:00:04\n",
      "   ------------------- -------------------- 6.3/12.8 MB 1.9 MB/s eta 0:00:04\n",
      "   -------------------- ------------------- 6.6/12.8 MB 1.9 MB/s eta 0:00:04\n",
      "   --------------------- ------------------ 6.8/12.8 MB 1.7 MB/s eta 0:00:04\n",
      "   ---------------------- ----------------- 7.1/12.8 MB 1.7 MB/s eta 0:00:04\n",
      "   ---------------------- ----------------- 7.1/12.8 MB 1.7 MB/s eta 0:00:04\n",
      "   ---------------------- ----------------- 7.3/12.8 MB 1.7 MB/s eta 0:00:04\n",
      "   ---------------------- ----------------- 7.3/12.8 MB 1.7 MB/s eta 0:00:04\n",
      "   ---------------------- ----------------- 7.3/12.8 MB 1.7 MB/s eta 0:00:04\n",
      "   ----------------------- ---------------- 7.6/12.8 MB 1.5 MB/s eta 0:00:04\n",
      "   ------------------------ --------------- 7.9/12.8 MB 1.5 MB/s eta 0:00:04\n",
      "   ------------------------- -------------- 8.1/12.8 MB 1.5 MB/s eta 0:00:04\n",
      "   ------------------------- -------------- 8.1/12.8 MB 1.5 MB/s eta 0:00:04\n",
      "   --------------------------- ------------ 8.7/12.8 MB 1.4 MB/s eta 0:00:03\n",
      "   --------------------------- ------------ 8.9/12.8 MB 1.4 MB/s eta 0:00:03\n",
      "   ---------------------------- ----------- 9.2/12.8 MB 1.4 MB/s eta 0:00:03\n",
      "   ---------------------------- ----------- 9.2/12.8 MB 1.4 MB/s eta 0:00:03\n",
      "   ----------------------------- ---------- 9.4/12.8 MB 1.4 MB/s eta 0:00:03\n",
      "   ------------------------------ --------- 9.7/12.8 MB 1.4 MB/s eta 0:00:03\n",
      "   ------------------------------- -------- 10.0/12.8 MB 1.4 MB/s eta 0:00:03\n",
      "   -------------------------------- ------- 10.5/12.8 MB 1.4 MB/s eta 0:00:02\n",
      "   -------------------------------- ------- 10.5/12.8 MB 1.4 MB/s eta 0:00:02\n",
      "   --------------------------------- ------ 10.7/12.8 MB 1.4 MB/s eta 0:00:02\n",
      "   ---------------------------------- ----- 11.0/12.8 MB 1.4 MB/s eta 0:00:02\n",
      "   ----------------------------------- ---- 11.3/12.8 MB 1.4 MB/s eta 0:00:02\n",
      "   ------------------------------------ --- 11.5/12.8 MB 1.4 MB/s eta 0:00:01\n",
      "   ------------------------------------ --- 11.5/12.8 MB 1.4 MB/s eta 0:00:01\n",
      "   ------------------------------------ --- 11.5/12.8 MB 1.4 MB/s eta 0:00:01\n",
      "   ------------------------------------ --- 11.8/12.8 MB 1.3 MB/s eta 0:00:01\n",
      "   ------------------------------------- -- 12.1/12.8 MB 1.3 MB/s eta 0:00:01\n",
      "   ------------------------------------- -- 12.1/12.8 MB 1.3 MB/s eta 0:00:01\n",
      "   ------------------------------------- -- 12.1/12.8 MB 1.3 MB/s eta 0:00:01\n",
      "   ------------------------------------- -- 12.1/12.8 MB 1.3 MB/s eta 0:00:01\n",
      "   ------------------------------------- -- 12.1/12.8 MB 1.3 MB/s eta 0:00:01\n",
      "   ------------------------------------- -- 12.1/12.8 MB 1.3 MB/s eta 0:00:01\n",
      "   ------------------------------------- -- 12.1/12.8 MB 1.3 MB/s eta 0:00:01\n",
      "   ------------------------------------- -- 12.1/12.8 MB 1.3 MB/s eta 0:00:01\n",
      "   ------------------------------------- -- 12.1/12.8 MB 1.3 MB/s eta 0:00:01\n",
      "   -------------------------------------- - 12.3/12.8 MB 1.1 MB/s eta 0:00:01\n",
      "   -------------------------------------- - 12.3/12.8 MB 1.1 MB/s eta 0:00:01\n",
      "   -------------------------------------- - 12.3/12.8 MB 1.1 MB/s eta 0:00:01\n",
      "   -------------------------------------- - 12.3/12.8 MB 1.1 MB/s eta 0:00:01\n",
      "   -------------------------------------- - 12.3/12.8 MB 1.1 MB/s eta 0:00:01\n",
      "   -------------------------------------- - 12.3/12.8 MB 1.1 MB/s eta 0:00:01\n",
      "   -------------------------------------- - 12.3/12.8 MB 1.1 MB/s eta 0:00:01\n",
      "   -------------------------------------- - 12.3/12.8 MB 1.1 MB/s eta 0:00:01\n",
      "   -------------------------------------- - 12.3/12.8 MB 1.1 MB/s eta 0:00:01\n",
      "   -------------------------------------- - 12.3/12.8 MB 1.1 MB/s eta 0:00:01\n",
      "   -------------------------------------- - 12.3/12.8 MB 1.1 MB/s eta 0:00:01\n",
      "   -------------------------------------- - 12.3/12.8 MB 1.1 MB/s eta 0:00:01\n",
      "   ---------------------------------------  12.6/12.8 MB 913.8 kB/s eta 0:00:01\n",
      "   ---------------------------------------  12.6/12.8 MB 913.8 kB/s eta 0:00:01\n",
      "   ---------------------------------------  12.6/12.8 MB 913.8 kB/s eta 0:00:01\n",
      "   ---------------------------------------  12.6/12.8 MB 913.8 kB/s eta 0:00:01\n",
      "   ---------------------------------------  12.6/12.8 MB 913.8 kB/s eta 0:00:01\n",
      "   ---------------------------------------  12.6/12.8 MB 913.8 kB/s eta 0:00:01\n",
      "   ---------------------------------------- 12.8/12.8 MB 855.6 kB/s  0:00:14\n",
      "Installing collected packages: numpy\n",
      "Successfully installed numpy-2.3.3\n"
     ]
    }
   ],
   "source": [
    "!pip install numpy"
   ]
  },
  {
   "cell_type": "code",
   "execution_count": 5,
   "id": "9993720c",
   "metadata": {},
   "outputs": [
    {
     "name": "stdout",
     "output_type": "stream",
     "text": [
      "[1 2 3 4 5]\n",
      "<class 'numpy.ndarray'>\n",
      "(5,)\n"
     ]
    }
   ],
   "source": [
    "import numpy as np\n",
    "\n",
    "## create array using numpy\n",
    "## create a ID array\n",
    "\n",
    "arr1=np.array([1,2,3,4,5])\n",
    "print((arr1))\n",
    "print(type(arr1))\n",
    "print(arr1.shape)"
   ]
  },
  {
   "cell_type": "code",
   "execution_count": null,
   "id": "ee11ec6e",
   "metadata": {},
   "outputs": [
    {
     "data": {
      "text/plain": [
       "array([[1, 2, 3, 4, 5]])"
      ]
     },
     "execution_count": 7,
     "metadata": {},
     "output_type": "execute_result"
    }
   ],
   "source": [
    "## one dimentional array\n",
    "arr2=np.array([1,2,3,4,5])\n",
    "arr2.reshape(1,5)  ## 1 row and 5 columns "
   ]
  },
  {
   "cell_type": "code",
   "execution_count": null,
   "id": "ae295f40",
   "metadata": {},
   "outputs": [
    {
     "name": "stdout",
     "output_type": "stream",
     "text": [
      "[[1 2 3 4 5]\n",
      " [2 3 4 5 6]]\n",
      "(2, 5)\n"
     ]
    }
   ],
   "source": [
    "## Two dimention array\n",
    "arr2=np.array([[1,2,3,4,5],[2,3,4,5,6]])\n",
    "print(arr2)\n",
    "print(arr2.shape)"
   ]
  },
  {
   "cell_type": "code",
   "execution_count": 15,
   "id": "b5f5b613",
   "metadata": {},
   "outputs": [
    {
     "data": {
      "text/plain": [
       "array([[0],\n",
       "       [2],\n",
       "       [4],\n",
       "       [6],\n",
       "       [8]])"
      ]
     },
     "execution_count": 15,
     "metadata": {},
     "output_type": "execute_result"
    }
   ],
   "source": [
    "np.arange(0,10,2).reshape(5,1)"
   ]
  },
  {
   "cell_type": "code",
   "execution_count": 16,
   "id": "90a2e0cd",
   "metadata": {},
   "outputs": [
    {
     "data": {
      "text/plain": [
       "array([[1., 1., 1., 1.],\n",
       "       [1., 1., 1., 1.],\n",
       "       [1., 1., 1., 1.]])"
      ]
     },
     "execution_count": 16,
     "metadata": {},
     "output_type": "execute_result"
    }
   ],
   "source": [
    "np.ones((3,4))"
   ]
  },
  {
   "cell_type": "code",
   "execution_count": 17,
   "id": "39a15df3",
   "metadata": {},
   "outputs": [
    {
     "data": {
      "text/plain": [
       "array([[1., 0., 0.],\n",
       "       [0., 1., 0.],\n",
       "       [0., 0., 1.]])"
      ]
     },
     "execution_count": 17,
     "metadata": {},
     "output_type": "execute_result"
    }
   ],
   "source": [
    "## Identity matrix\n",
    "np.eye(3)\n"
   ]
  },
  {
   "cell_type": "code",
   "execution_count": 18,
   "id": "41c5e169",
   "metadata": {},
   "outputs": [
    {
     "name": "stdout",
     "output_type": "stream",
     "text": [
      "Array:\n",
      " [[1 2 3]\n",
      " [4 5 6]]\n",
      "Shape: (2, 3)\n",
      "Number of dimension: 2\n",
      "Size (number of element): 6\n",
      "Data Type: int64\n",
      "Item Size (in bytes): 8\n"
     ]
    }
   ],
   "source": [
    "## Attributes of numpy array\n",
    "\n",
    "arr=np.array([[1,2,3],[4,5,6]])\n",
    "\n",
    "print(\"Array:\\n\",arr)\n",
    "print(\"Shape:\",arr.shape) # Output:(2,3)\n",
    "print(\"Number of dimension:\",arr.ndim) #output:2\n",
    "print(\"Size (number of element):\",arr.size) # output\n",
    "print(\"Data Type:\",arr.dtype) # output :int32 (may vary based on platform)\n",
    "print(\"Item Size (in bytes):\",arr.itemsize) "
   ]
  },
  {
   "cell_type": "code",
   "execution_count": 19,
   "id": "e36d19a4",
   "metadata": {},
   "outputs": [
    {
     "name": "stdout",
     "output_type": "stream",
     "text": [
      "2.3.3\n"
     ]
    }
   ],
   "source": [
    "print(np.__version__)"
   ]
  },
  {
   "cell_type": "code",
   "execution_count": 22,
   "id": "1f79db67",
   "metadata": {},
   "outputs": [
    {
     "name": "stdout",
     "output_type": "stream",
     "text": [
      "[[ 1  2  3]\n",
      " [ 4  5  6]\n",
      " [ 7  8  9]\n",
      " [10 11 12]]\n",
      "2\n"
     ]
    }
   ],
   "source": [
    "arr=np.array([[1,2,3],[4,5,6],[7,8,9],[10,11,12]])\n",
    "print(arr)\n",
    "print(arr.ndim)"
   ]
  },
  {
   "cell_type": "code",
   "execution_count": 25,
   "id": "97ead8af",
   "metadata": {},
   "outputs": [
    {
     "name": "stdout",
     "output_type": "stream",
     "text": [
      "0\n",
      "1\n",
      "2\n",
      "3\n"
     ]
    }
   ],
   "source": [
    "a=np.array(42)\n",
    "b=np.array([1,2,3,4,5])\n",
    "c=np.array([[1,2,3],[4,5,6]])\n",
    "d=np.array([[[1,2,3],[4,5,6],[7,8,9],[10,11,12]]])\n",
    "\n",
    "print(a.ndim)\n",
    "print(b.ndim)\n",
    "print(c.ndim)\n",
    "print(d.ndim)"
   ]
  },
  {
   "cell_type": "code",
   "execution_count": null,
   "id": "8273368c",
   "metadata": {},
   "outputs": [],
   "source": []
  }
 ],
 "metadata": {
  "kernelspec": {
   "display_name": "Python 3",
   "language": "python",
   "name": "python3"
  },
  "language_info": {
   "codemirror_mode": {
    "name": "ipython",
    "version": 3
   },
   "file_extension": ".py",
   "mimetype": "text/x-python",
   "name": "python",
   "nbconvert_exporter": "python",
   "pygments_lexer": "ipython3",
   "version": "3.13.0"
  }
 },
 "nbformat": 4,
 "nbformat_minor": 5
}
