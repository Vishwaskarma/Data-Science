{
 "cells": [
  {
   "cell_type": "markdown",
   "id": "8255810a",
   "metadata": {},
   "source": [
    "Numpy is a fundamental library for scientiic calculation in python. it provikdes support for arrays and matrices along with a collection of Mathematical function to operate on these data structures. In this lesson,\n",
    "we will cover the basices of Numpy,focusing on arrays and vectorized operations."
   ]
  },
  {
   "cell_type": "code",
   "execution_count": 2,
   "id": "b0da7787",
   "metadata": {},
   "outputs": [
    {
     "name": "stdout",
     "output_type": "stream",
     "text": [
      "Requirement already satisfied: numpy in d:\\himanshu\\data_science_complete_course\\data-science\\venv\\lib\\site-packages (2.3.3)\n"
     ]
    }
   ],
   "source": [
    "!pip install numpy"
   ]
  },
  {
   "cell_type": "code",
   "execution_count": 5,
   "id": "9993720c",
   "metadata": {},
   "outputs": [
    {
     "name": "stdout",
     "output_type": "stream",
     "text": [
      "[1 2 3 4 5]\n",
      "<class 'numpy.ndarray'>\n",
      "(5,)\n"
     ]
    }
   ],
   "source": [
    "import numpy as np\n",
    "\n",
    "## create array using numpy\n",
    "## create a ID array\n",
    "\n",
    "arr1=np.array([1,2,3,4,5])\n",
    "print((arr1))\n",
    "print(type(arr1))\n",
    "print(arr1.shape)"
   ]
  },
  {
   "cell_type": "code",
   "execution_count": null,
   "id": "ee11ec6e",
   "metadata": {},
   "outputs": [
    {
     "data": {
      "text/plain": [
       "array([[1, 2, 3, 4, 5]])"
      ]
     },
     "execution_count": 7,
     "metadata": {},
     "output_type": "execute_result"
    }
   ],
   "source": [
    "## one dimentional array\n",
    "arr2=np.array([1,2,3,4,5])\n",
    "arr2.reshape(1,5)  ## 1 row and 5 columns "
   ]
  },
  {
   "cell_type": "code",
   "execution_count": null,
   "id": "ae295f40",
   "metadata": {},
   "outputs": [
    {
     "name": "stdout",
     "output_type": "stream",
     "text": [
      "[[1 2 3 4 5]\n",
      " [2 3 4 5 6]]\n",
      "(2, 5)\n"
     ]
    }
   ],
   "source": [
    "## Two dimention array\n",
    "arr2=np.array([[1,2,3,4,5],[2,3,4,5,6]])\n",
    "print(arr2)\n",
    "print(arr2.shape)"
   ]
  },
  {
   "cell_type": "code",
   "execution_count": 15,
   "id": "b5f5b613",
   "metadata": {},
   "outputs": [
    {
     "data": {
      "text/plain": [
       "array([[0],\n",
       "       [2],\n",
       "       [4],\n",
       "       [6],\n",
       "       [8]])"
      ]
     },
     "execution_count": 15,
     "metadata": {},
     "output_type": "execute_result"
    }
   ],
   "source": [
    "np.arange(0,10,2).reshape(5,1)"
   ]
  },
  {
   "cell_type": "code",
   "execution_count": 16,
   "id": "90a2e0cd",
   "metadata": {},
   "outputs": [
    {
     "data": {
      "text/plain": [
       "array([[1., 1., 1., 1.],\n",
       "       [1., 1., 1., 1.],\n",
       "       [1., 1., 1., 1.]])"
      ]
     },
     "execution_count": 16,
     "metadata": {},
     "output_type": "execute_result"
    }
   ],
   "source": [
    "np.ones((3,4))"
   ]
  },
  {
   "cell_type": "code",
   "execution_count": 17,
   "id": "39a15df3",
   "metadata": {},
   "outputs": [
    {
     "data": {
      "text/plain": [
       "array([[1., 0., 0.],\n",
       "       [0., 1., 0.],\n",
       "       [0., 0., 1.]])"
      ]
     },
     "execution_count": 17,
     "metadata": {},
     "output_type": "execute_result"
    }
   ],
   "source": [
    "## Identity matrix\n",
    "np.eye(3)\n"
   ]
  },
  {
   "cell_type": "code",
   "execution_count": 18,
   "id": "41c5e169",
   "metadata": {},
   "outputs": [
    {
     "name": "stdout",
     "output_type": "stream",
     "text": [
      "Array:\n",
      " [[1 2 3]\n",
      " [4 5 6]]\n",
      "Shape: (2, 3)\n",
      "Number of dimension: 2\n",
      "Size (number of element): 6\n",
      "Data Type: int64\n",
      "Item Size (in bytes): 8\n"
     ]
    }
   ],
   "source": [
    "## Attributes of numpy array\n",
    "\n",
    "arr=np.array([[1,2,3],[4,5,6]])\n",
    "\n",
    "print(\"Array:\\n\",arr)\n",
    "print(\"Shape:\",arr.shape) # Output:(2,3)\n",
    "print(\"Number of dimension:\",arr.ndim) #output:2\n",
    "print(\"Size (number of element):\",arr.size) # output\n",
    "print(\"Data Type:\",arr.dtype) # output :int32 (may vary based on platform)\n",
    "print(\"Item Size (in bytes):\",arr.itemsize) "
   ]
  },
  {
   "cell_type": "code",
   "execution_count": 19,
   "id": "e36d19a4",
   "metadata": {},
   "outputs": [
    {
     "name": "stdout",
     "output_type": "stream",
     "text": [
      "2.3.3\n"
     ]
    }
   ],
   "source": [
    "print(np.__version__)"
   ]
  },
  {
   "cell_type": "code",
   "execution_count": 3,
   "id": "8273368c",
   "metadata": {},
   "outputs": [
    {
     "name": "stdout",
     "output_type": "stream",
     "text": [
      "Addition [11 22 33 44 55]\n",
      "Substraction [ -9 -18 -27 -36 -45]\n",
      "multiplication [ 10  40  90 160 250]\n",
      "Division [0.1 0.1 0.1 0.1 0.1]\n"
     ]
    }
   ],
   "source": [
    "import numpy as np\n",
    "## Numpy vectorized operation\n",
    "arr1=np.array([1,2,3,4,5])\n",
    "arr2=np.array([10,20,30,40,50])\n",
    "\n",
    "## element wise addition\n",
    "print('Addition',arr1+arr2)\n",
    "\n",
    "## Element wise subtraction\n",
    "print(\"Substraction\",arr1-arr2)\n",
    "\n",
    "## Element wise multiplication\n",
    "print(\"multiplication\",arr1*arr2)\n",
    "\n",
    "## Element wise division\n",
    "print(\"Division\",arr1/arr2)\n"
   ]
  },
  {
   "cell_type": "code",
   "execution_count": 10,
   "id": "180f3bf0",
   "metadata": {},
   "outputs": [
    {
     "name": "stdout",
     "output_type": "stream",
     "text": [
      "[2 4 5 6 9]\n",
      "[7.38905610e+00 8.10308393e+03 5.45981500e+01 1.48413159e+02\n",
      " 4.03428793e+02]\n",
      "[ 0.90929743  0.41211849 -0.7568025  -0.95892427 -0.2794155 ]\n",
      "[0.69314718 2.19722458 1.38629436 1.60943791 1.79175947]\n"
     ]
    }
   ],
   "source": [
    "## Universal function\n",
    "arr=np.array([2,9,4,5,6])\n",
    "\n",
    "## square root\n",
    "print(np.sort(arr))\n",
    "\n",
    "\n",
    "## Exponential\n",
    "print(np.exp(arr))\n",
    "\n",
    "## sine\n",
    "print(np.sin(arr))\n",
    "\n",
    "## Natural log\n",
    "print(np.log(arr))"
   ]
  },
  {
   "cell_type": "code",
   "execution_count": 14,
   "id": "c6121a0f",
   "metadata": {},
   "outputs": [
    {
     "name": "stdout",
     "output_type": "stream",
     "text": [
      "Array:\n",
      " [[ 1  2  3  4]\n",
      " [ 5  6  7  8]\n",
      " [ 9 10 11 12]]\n",
      "array of subarray of first column 1\n",
      "1\n",
      "[[2 3 4]\n",
      " [6 7 8]]\n"
     ]
    }
   ],
   "source": [
    "## Array slicing and indexing\n",
    "arr=np.array([[1,2,3,4],[5,6,7,8],[9,10,11,12]])\n",
    "print(\"Array:\\n\",arr)\n",
    "print(\"array of subarray of first column\",arr[0][0])\n",
    "print(arr[0][0])\n",
    "print(arr[0:2,1:])\n"
   ]
  },
  {
   "cell_type": "code",
   "execution_count": null,
   "id": "6678c3d1",
   "metadata": {},
   "outputs": [],
   "source": []
  }
 ],
 "metadata": {
  "kernelspec": {
   "display_name": "Python 3",
   "language": "python",
   "name": "python3"
  },
  "language_info": {
   "codemirror_mode": {
    "name": "ipython",
    "version": 3
   },
   "file_extension": ".py",
   "mimetype": "text/x-python",
   "name": "python",
   "nbconvert_exporter": "python",
   "pygments_lexer": "ipython3",
   "version": "3.13.0"
  }
 },
 "nbformat": 4,
 "nbformat_minor": 5
}
