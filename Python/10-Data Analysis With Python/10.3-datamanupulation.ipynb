{
 "cells": [
  {
   "cell_type": "markdown",
   "id": "9550a6a4",
   "metadata": {},
   "source": [
    "Data manipulation and analysis are key tasks in any data science or data analysis project.pandas provides a wide range of functions for data manipulation and analysis ,making it easier to clean,transform and extract insight from data.In this lession we will cover various data manipulation and analysis technique using pandas "
   ]
  },
  {
   "cell_type": "code",
   "execution_count": 3,
   "id": "519705e2",
   "metadata": {},
   "outputs": [
    {
     "name": "stdout",
     "output_type": "stream",
     "text": [
      "   ORDERNUMBER  QUANTITYORDERED  PRICEEACH  ORDERLINENUMBER    SALES  \\\n",
      "0        10107               30      95.70                2  2871.00   \n",
      "1        10121               34      81.35                5  2765.90   \n",
      "2        10134               41      94.74                2  3884.34   \n",
      "3        10145               45      83.26                6  3746.70   \n",
      "4        10159               49     100.00               14  5205.27   \n",
      "\n",
      "         ORDERDATE   STATUS  QTR_ID  MONTH_ID  YEAR_ID  ...  \\\n",
      "0   2/24/2003 0:00  Shipped       1         2     2003  ...   \n",
      "1    5/7/2003 0:00  Shipped       2         5     2003  ...   \n",
      "2    7/1/2003 0:00  Shipped       3         7     2003  ...   \n",
      "3   8/25/2003 0:00  Shipped       3         8     2003  ...   \n",
      "4  10/10/2003 0:00  Shipped       4        10     2003  ...   \n",
      "\n",
      "                    ADDRESSLINE1  ADDRESSLINE2           CITY STATE  \\\n",
      "0        897 Long Airport Avenue           NaN            NYC    NY   \n",
      "1             59 rue de l'Abbaye           NaN          Reims   NaN   \n",
      "2  27 rue du Colonel Pierre Avia           NaN          Paris   NaN   \n",
      "3             78934 Hillside Dr.           NaN       Pasadena    CA   \n",
      "4                7734 Strong St.           NaN  San Francisco    CA   \n",
      "\n",
      "  POSTALCODE COUNTRY TERRITORY CONTACTLASTNAME CONTACTFIRSTNAME DEALSIZE  \n",
      "0      10022     USA       NaN              Yu             Kwai    Small  \n",
      "1      51100  France      EMEA         Henriot             Paul    Small  \n",
      "2      75508  France      EMEA        Da Cunha           Daniel   Medium  \n",
      "3      90003     USA       NaN           Young            Julie   Medium  \n",
      "4        NaN     USA       NaN           Brown            Julie   Medium  \n",
      "\n",
      "[5 rows x 25 columns]\n"
     ]
    }
   ],
   "source": [
    "import pandas as pd\n",
    "df=pd.read_csv('sales_data_sample.csv')\n",
    "print(df.head(5))"
   ]
  },
  {
   "cell_type": "code",
   "execution_count": 4,
   "id": "7adff887",
   "metadata": {},
   "outputs": [
    {
     "data": {
      "text/html": [
       "<div>\n",
       "<style scoped>\n",
       "    .dataframe tbody tr th:only-of-type {\n",
       "        vertical-align: middle;\n",
       "    }\n",
       "\n",
       "    .dataframe tbody tr th {\n",
       "        vertical-align: top;\n",
       "    }\n",
       "\n",
       "    .dataframe thead th {\n",
       "        text-align: right;\n",
       "    }\n",
       "</style>\n",
       "<table border=\"1\" class=\"dataframe\">\n",
       "  <thead>\n",
       "    <tr style=\"text-align: right;\">\n",
       "      <th></th>\n",
       "      <th>ORDERNUMBER</th>\n",
       "      <th>QUANTITYORDERED</th>\n",
       "      <th>PRICEEACH</th>\n",
       "      <th>ORDERLINENUMBER</th>\n",
       "      <th>SALES</th>\n",
       "      <th>QTR_ID</th>\n",
       "      <th>MONTH_ID</th>\n",
       "      <th>YEAR_ID</th>\n",
       "      <th>MSRP</th>\n",
       "    </tr>\n",
       "  </thead>\n",
       "  <tbody>\n",
       "    <tr>\n",
       "      <th>count</th>\n",
       "      <td>2823.000000</td>\n",
       "      <td>2823.000000</td>\n",
       "      <td>2823.000000</td>\n",
       "      <td>2823.000000</td>\n",
       "      <td>2823.000000</td>\n",
       "      <td>2823.000000</td>\n",
       "      <td>2823.000000</td>\n",
       "      <td>2823.00000</td>\n",
       "      <td>2823.000000</td>\n",
       "    </tr>\n",
       "    <tr>\n",
       "      <th>mean</th>\n",
       "      <td>10258.725115</td>\n",
       "      <td>35.092809</td>\n",
       "      <td>83.658544</td>\n",
       "      <td>6.466171</td>\n",
       "      <td>3553.889072</td>\n",
       "      <td>2.717676</td>\n",
       "      <td>7.092455</td>\n",
       "      <td>2003.81509</td>\n",
       "      <td>100.715551</td>\n",
       "    </tr>\n",
       "    <tr>\n",
       "      <th>std</th>\n",
       "      <td>92.085478</td>\n",
       "      <td>9.741443</td>\n",
       "      <td>20.174277</td>\n",
       "      <td>4.225841</td>\n",
       "      <td>1841.865106</td>\n",
       "      <td>1.203878</td>\n",
       "      <td>3.656633</td>\n",
       "      <td>0.69967</td>\n",
       "      <td>40.187912</td>\n",
       "    </tr>\n",
       "    <tr>\n",
       "      <th>min</th>\n",
       "      <td>10100.000000</td>\n",
       "      <td>6.000000</td>\n",
       "      <td>26.880000</td>\n",
       "      <td>1.000000</td>\n",
       "      <td>482.130000</td>\n",
       "      <td>1.000000</td>\n",
       "      <td>1.000000</td>\n",
       "      <td>2003.00000</td>\n",
       "      <td>33.000000</td>\n",
       "    </tr>\n",
       "    <tr>\n",
       "      <th>25%</th>\n",
       "      <td>10180.000000</td>\n",
       "      <td>27.000000</td>\n",
       "      <td>68.860000</td>\n",
       "      <td>3.000000</td>\n",
       "      <td>2203.430000</td>\n",
       "      <td>2.000000</td>\n",
       "      <td>4.000000</td>\n",
       "      <td>2003.00000</td>\n",
       "      <td>68.000000</td>\n",
       "    </tr>\n",
       "    <tr>\n",
       "      <th>50%</th>\n",
       "      <td>10262.000000</td>\n",
       "      <td>35.000000</td>\n",
       "      <td>95.700000</td>\n",
       "      <td>6.000000</td>\n",
       "      <td>3184.800000</td>\n",
       "      <td>3.000000</td>\n",
       "      <td>8.000000</td>\n",
       "      <td>2004.00000</td>\n",
       "      <td>99.000000</td>\n",
       "    </tr>\n",
       "    <tr>\n",
       "      <th>75%</th>\n",
       "      <td>10333.500000</td>\n",
       "      <td>43.000000</td>\n",
       "      <td>100.000000</td>\n",
       "      <td>9.000000</td>\n",
       "      <td>4508.000000</td>\n",
       "      <td>4.000000</td>\n",
       "      <td>11.000000</td>\n",
       "      <td>2004.00000</td>\n",
       "      <td>124.000000</td>\n",
       "    </tr>\n",
       "    <tr>\n",
       "      <th>max</th>\n",
       "      <td>10425.000000</td>\n",
       "      <td>97.000000</td>\n",
       "      <td>100.000000</td>\n",
       "      <td>18.000000</td>\n",
       "      <td>14082.800000</td>\n",
       "      <td>4.000000</td>\n",
       "      <td>12.000000</td>\n",
       "      <td>2005.00000</td>\n",
       "      <td>214.000000</td>\n",
       "    </tr>\n",
       "  </tbody>\n",
       "</table>\n",
       "</div>"
      ],
      "text/plain": [
       "        ORDERNUMBER  QUANTITYORDERED    PRICEEACH  ORDERLINENUMBER  \\\n",
       "count   2823.000000      2823.000000  2823.000000      2823.000000   \n",
       "mean   10258.725115        35.092809    83.658544         6.466171   \n",
       "std       92.085478         9.741443    20.174277         4.225841   \n",
       "min    10100.000000         6.000000    26.880000         1.000000   \n",
       "25%    10180.000000        27.000000    68.860000         3.000000   \n",
       "50%    10262.000000        35.000000    95.700000         6.000000   \n",
       "75%    10333.500000        43.000000   100.000000         9.000000   \n",
       "max    10425.000000        97.000000   100.000000        18.000000   \n",
       "\n",
       "              SALES       QTR_ID     MONTH_ID     YEAR_ID         MSRP  \n",
       "count   2823.000000  2823.000000  2823.000000  2823.00000  2823.000000  \n",
       "mean    3553.889072     2.717676     7.092455  2003.81509   100.715551  \n",
       "std     1841.865106     1.203878     3.656633     0.69967    40.187912  \n",
       "min      482.130000     1.000000     1.000000  2003.00000    33.000000  \n",
       "25%     2203.430000     2.000000     4.000000  2003.00000    68.000000  \n",
       "50%     3184.800000     3.000000     8.000000  2004.00000    99.000000  \n",
       "75%     4508.000000     4.000000    11.000000  2004.00000   124.000000  \n",
       "max    14082.800000     4.000000    12.000000  2005.00000   214.000000  "
      ]
     },
     "execution_count": 4,
     "metadata": {},
     "output_type": "execute_result"
    }
   ],
   "source": [
    "df.describe()"
   ]
  },
  {
   "cell_type": "code",
   "execution_count": 5,
   "id": "82daa1d9",
   "metadata": {},
   "outputs": [
    {
     "data": {
      "text/plain": [
       "ORDERNUMBER           int64\n",
       "QUANTITYORDERED       int64\n",
       "PRICEEACH           float64\n",
       "ORDERLINENUMBER       int64\n",
       "SALES               float64\n",
       "ORDERDATE            object\n",
       "STATUS               object\n",
       "QTR_ID                int64\n",
       "MONTH_ID              int64\n",
       "YEAR_ID               int64\n",
       "PRODUCTLINE          object\n",
       "MSRP                  int64\n",
       "PRODUCTCODE          object\n",
       "CUSTOMERNAME         object\n",
       "PHONE                object\n",
       "ADDRESSLINE1         object\n",
       "ADDRESSLINE2         object\n",
       "CITY                 object\n",
       "STATE                object\n",
       "POSTALCODE           object\n",
       "COUNTRY              object\n",
       "TERRITORY            object\n",
       "CONTACTLASTNAME      object\n",
       "CONTACTFIRSTNAME     object\n",
       "DEALSIZE             object\n",
       "dtype: object"
      ]
     },
     "execution_count": 5,
     "metadata": {},
     "output_type": "execute_result"
    }
   ],
   "source": [
    "df.dtypes"
   ]
  },
  {
   "cell_type": "code",
   "execution_count": 11,
   "id": "ed877737",
   "metadata": {},
   "outputs": [
    {
     "data": {
      "text/plain": [
       "0       True\n",
       "1       True\n",
       "2       True\n",
       "3       True\n",
       "4       True\n",
       "        ... \n",
       "2818    True\n",
       "2819    True\n",
       "2820    True\n",
       "2821    True\n",
       "2822    True\n",
       "Length: 2823, dtype: bool"
      ]
     },
     "execution_count": 11,
     "metadata": {},
     "output_type": "execute_result"
    }
   ],
   "source": [
    "df.isnull().any(axis=1)"
   ]
  },
  {
   "cell_type": "code",
   "execution_count": 12,
   "id": "852f8593",
   "metadata": {},
   "outputs": [
    {
     "data": {
      "text/plain": [
       "ORDERNUMBER         False\n",
       "QUANTITYORDERED     False\n",
       "PRICEEACH           False\n",
       "ORDERLINENUMBER     False\n",
       "SALES               False\n",
       "ORDERDATE           False\n",
       "STATUS              False\n",
       "QTR_ID              False\n",
       "MONTH_ID            False\n",
       "YEAR_ID             False\n",
       "PRODUCTLINE         False\n",
       "MSRP                False\n",
       "PRODUCTCODE         False\n",
       "CUSTOMERNAME        False\n",
       "PHONE               False\n",
       "ADDRESSLINE1        False\n",
       "ADDRESSLINE2         True\n",
       "CITY                False\n",
       "STATE                True\n",
       "POSTALCODE           True\n",
       "COUNTRY             False\n",
       "TERRITORY            True\n",
       "CONTACTLASTNAME     False\n",
       "CONTACTFIRSTNAME    False\n",
       "DEALSIZE            False\n",
       "dtype: bool"
      ]
     },
     "execution_count": 12,
     "metadata": {},
     "output_type": "execute_result"
    }
   ],
   "source": [
    "df.isnull().any(axis=0)"
   ]
  },
  {
   "cell_type": "code",
   "execution_count": null,
   "id": "5b250749",
   "metadata": {},
   "outputs": [],
   "source": [
    "### filling missing values  with the mean of the column \n"
   ]
  }
 ],
 "metadata": {
  "kernelspec": {
   "display_name": "Python 3",
   "language": "python",
   "name": "python3"
  },
  "language_info": {
   "codemirror_mode": {
    "name": "ipython",
    "version": 3
   },
   "file_extension": ".py",
   "mimetype": "text/x-python",
   "name": "python",
   "nbconvert_exporter": "python",
   "pygments_lexer": "ipython3",
   "version": "3.13.0"
  }
 },
 "nbformat": 4,
 "nbformat_minor": 5
}
